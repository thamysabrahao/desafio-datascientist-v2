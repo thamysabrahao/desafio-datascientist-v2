{
 "cells": [
  {
   "cell_type": "code",
   "execution_count": 1,
   "metadata": {
    "collapsed": true
   },
   "outputs": [],
   "source": [
    "# Thamys Abrahao - 06/2018\n",
    "import pandas as pd\n",
    "import json\n",
    "import numpy as np\n",
    "import matplotlib.pyplot as plt\n",
    "import warnings\n",
    "warnings.filterwarnings('ignore')\n",
    "import seaborn as sns\n",
    "%matplotlib inline\n",
    "sns.set(rc={'figure.figsize':(7.7,7.7)}) # graph size"
   ]
  },
  {
   "cell_type": "markdown",
   "metadata": {},
   "source": [
    "# Montagem da base para análise do lifetime value (LTV)"
   ]
  },
  {
   "cell_type": "markdown",
   "metadata": {},
   "source": [
    "**A Base para análise do LTV terá quatro colunas:** \n",
    "    \n",
    "* StudentId: identificação do assinante\n",
    "     \n",
    "     \n",
    "* Frequencia: total de arquivos visualizados (fileViews)\n",
    " \n",
    "     frequencia =  total de visualizações - 1\n",
    "     \n",
    "     \n",
    "* Tempo_assinatura: duração da assinatura, ou seja, tempo (em dias) entre a primeira visualização e o último dia da base de dados\n",
    "\n",
    "\n",
    "* Recência: tempo em dias do usuário na base no momento em que ele visualizou o último arquivo no Passei Direto"
   ]
  },
  {
   "cell_type": "code",
   "execution_count": 2,
   "metadata": {
    "collapsed": true
   },
   "outputs": [],
   "source": [
    "# Tipo de login\n",
    "with open('premium_payments.json', 'r') as f:\n",
    "    data = json.load(f)\n",
    "    \n",
    "df_premium = pd.DataFrame(data)"
   ]
  },
  {
   "cell_type": "code",
   "execution_count": 3,
   "metadata": {},
   "outputs": [
    {
     "data": {
      "text/html": [
       "<div>\n",
       "<style>\n",
       "    .dataframe thead tr:only-child th {\n",
       "        text-align: right;\n",
       "    }\n",
       "\n",
       "    .dataframe thead th {\n",
       "        text-align: left;\n",
       "    }\n",
       "\n",
       "    .dataframe tbody tr th {\n",
       "        vertical-align: top;\n",
       "    }\n",
       "</style>\n",
       "<table border=\"1\" class=\"dataframe\">\n",
       "  <thead>\n",
       "    <tr style=\"text-align: right;\">\n",
       "      <th></th>\n",
       "      <th>PaymentDate</th>\n",
       "      <th>PlanType</th>\n",
       "      <th>StudentId</th>\n",
       "    </tr>\n",
       "  </thead>\n",
       "  <tbody>\n",
       "    <tr>\n",
       "      <th>0</th>\n",
       "      <td>2017-05-26 22:25:03.000000</td>\n",
       "      <td>Anual</td>\n",
       "      <td>12970655</td>\n",
       "    </tr>\n",
       "    <tr>\n",
       "      <th>1</th>\n",
       "      <td>2018-05-26 10:05:28.000000</td>\n",
       "      <td>Anual</td>\n",
       "      <td>12970655</td>\n",
       "    </tr>\n",
       "    <tr>\n",
       "      <th>2</th>\n",
       "      <td>2016-07-21 19:57:57.717000</td>\n",
       "      <td>Mensal</td>\n",
       "      <td>12970655</td>\n",
       "    </tr>\n",
       "    <tr>\n",
       "      <th>3</th>\n",
       "      <td>2016-08-21 08:47:42.947000</td>\n",
       "      <td>Mensal</td>\n",
       "      <td>12970655</td>\n",
       "    </tr>\n",
       "    <tr>\n",
       "      <th>4</th>\n",
       "      <td>2016-09-21 08:54:06.270000</td>\n",
       "      <td>Mensal</td>\n",
       "      <td>12970655</td>\n",
       "    </tr>\n",
       "  </tbody>\n",
       "</table>\n",
       "</div>"
      ],
      "text/plain": [
       "                  PaymentDate PlanType  StudentId\n",
       "0  2017-05-26 22:25:03.000000    Anual   12970655\n",
       "1  2018-05-26 10:05:28.000000    Anual   12970655\n",
       "2  2016-07-21 19:57:57.717000   Mensal   12970655\n",
       "3  2016-08-21 08:47:42.947000   Mensal   12970655\n",
       "4  2016-09-21 08:54:06.270000   Mensal   12970655"
      ]
     },
     "execution_count": 3,
     "metadata": {},
     "output_type": "execute_result"
    }
   ],
   "source": [
    "df_premium.head()"
   ]
  },
  {
   "cell_type": "code",
   "execution_count": 4,
   "metadata": {},
   "outputs": [
    {
     "data": {
      "text/plain": [
       "(3028983, 4)"
      ]
     },
     "execution_count": 4,
     "metadata": {},
     "output_type": "execute_result"
    }
   ],
   "source": [
    "# quantificando o total de arquivos visualizados\n",
    "with open('fileViews.json', 'r') as f:\n",
    "    data = json.load(f)\n",
    "    \n",
    "df_fileViews = pd.DataFrame(data)\n",
    "df_fileViews.shape"
   ]
  },
  {
   "cell_type": "code",
   "execution_count": 5,
   "metadata": {},
   "outputs": [
    {
     "data": {
      "text/html": [
       "<div>\n",
       "<style>\n",
       "    .dataframe thead tr:only-child th {\n",
       "        text-align: right;\n",
       "    }\n",
       "\n",
       "    .dataframe thead th {\n",
       "        text-align: left;\n",
       "    }\n",
       "\n",
       "    .dataframe tbody tr th {\n",
       "        vertical-align: top;\n",
       "    }\n",
       "</style>\n",
       "<table border=\"1\" class=\"dataframe\">\n",
       "  <thead>\n",
       "    <tr style=\"text-align: right;\">\n",
       "      <th></th>\n",
       "      <th>FileName</th>\n",
       "      <th>StudentId</th>\n",
       "      <th>Studentclient</th>\n",
       "      <th>ViewDate</th>\n",
       "    </tr>\n",
       "  </thead>\n",
       "  <tbody>\n",
       "    <tr>\n",
       "      <th>0</th>\n",
       "      <td>Exercicios Resolvidos do Halliday sobre Rotaçã...</td>\n",
       "      <td>12970655</td>\n",
       "      <td>Website</td>\n",
       "      <td>2017-02-23 10:46:03.047000</td>\n",
       "    </tr>\n",
       "    <tr>\n",
       "      <th>1</th>\n",
       "      <td>Exercicios Resolvidos do Halliday sobre Rotaçã...</td>\n",
       "      <td>12970655</td>\n",
       "      <td>Website</td>\n",
       "      <td>2017-02-23 10:46:12.370000</td>\n",
       "    </tr>\n",
       "    <tr>\n",
       "      <th>2</th>\n",
       "      <td>CALCULO I</td>\n",
       "      <td>12970655</td>\n",
       "      <td>Website</td>\n",
       "      <td>2017-05-25 22:39:48.000000</td>\n",
       "    </tr>\n",
       "    <tr>\n",
       "      <th>3</th>\n",
       "      <td>CALCULO I</td>\n",
       "      <td>12970655</td>\n",
       "      <td>Website</td>\n",
       "      <td>2017-05-25 22:40:36.000000</td>\n",
       "    </tr>\n",
       "    <tr>\n",
       "      <th>4</th>\n",
       "      <td>CALCULO I</td>\n",
       "      <td>12970655</td>\n",
       "      <td>Website</td>\n",
       "      <td>2017-05-25 22:43:16.000000</td>\n",
       "    </tr>\n",
       "  </tbody>\n",
       "</table>\n",
       "</div>"
      ],
      "text/plain": [
       "                                            FileName  StudentId Studentclient  \\\n",
       "0  Exercicios Resolvidos do Halliday sobre Rotaçã...   12970655       Website   \n",
       "1  Exercicios Resolvidos do Halliday sobre Rotaçã...   12970655       Website   \n",
       "2                                          CALCULO I   12970655       Website   \n",
       "3                                          CALCULO I   12970655       Website   \n",
       "4                                          CALCULO I   12970655       Website   \n",
       "\n",
       "                     ViewDate  \n",
       "0  2017-02-23 10:46:03.047000  \n",
       "1  2017-02-23 10:46:12.370000  \n",
       "2  2017-05-25 22:39:48.000000  \n",
       "3  2017-05-25 22:40:36.000000  \n",
       "4  2017-05-25 22:43:16.000000  "
      ]
     },
     "execution_count": 5,
     "metadata": {},
     "output_type": "execute_result"
    }
   ],
   "source": [
    "df_fileViews.head()"
   ]
  },
  {
   "cell_type": "code",
   "execution_count": 6,
   "metadata": {
    "collapsed": true
   },
   "outputs": [],
   "source": [
    "df = pd.merge(df_fileViews, df_premium, how='outer', indicator=True)"
   ]
  },
  {
   "cell_type": "code",
   "execution_count": 7,
   "metadata": {},
   "outputs": [
    {
     "data": {
      "text/plain": [
       "left_only     2524087\n",
       "both          2019744\n",
       "right_only         10\n",
       "Name: _merge, dtype: int64"
      ]
     },
     "execution_count": 7,
     "metadata": {},
     "output_type": "execute_result"
    }
   ],
   "source": [
    "df['_merge'].value_counts()"
   ]
  },
  {
   "cell_type": "code",
   "execution_count": 8,
   "metadata": {},
   "outputs": [
    {
     "data": {
      "text/plain": [
       "(2019744, 7)"
      ]
     },
     "execution_count": 8,
     "metadata": {},
     "output_type": "execute_result"
    }
   ],
   "source": [
    "# df apenas com os assinantes\n",
    "df_f = df[df._merge == 'both']\n",
    "df_f.shape"
   ]
  },
  {
   "cell_type": "code",
   "execution_count": 9,
   "metadata": {},
   "outputs": [
    {
     "name": "stdout",
     "output_type": "stream",
     "text": [
      "(503331, 3)\n",
      "FileName     object\n",
      "StudentId     int64\n",
      "ViewDate     object\n",
      "dtype: object\n"
     ]
    },
    {
     "data": {
      "text/html": [
       "<div>\n",
       "<style>\n",
       "    .dataframe thead tr:only-child th {\n",
       "        text-align: right;\n",
       "    }\n",
       "\n",
       "    .dataframe thead th {\n",
       "        text-align: left;\n",
       "    }\n",
       "\n",
       "    .dataframe tbody tr th {\n",
       "        vertical-align: top;\n",
       "    }\n",
       "</style>\n",
       "<table border=\"1\" class=\"dataframe\">\n",
       "  <thead>\n",
       "    <tr style=\"text-align: right;\">\n",
       "      <th></th>\n",
       "      <th>FileName</th>\n",
       "      <th>StudentId</th>\n",
       "      <th>ViewDate</th>\n",
       "    </tr>\n",
       "  </thead>\n",
       "  <tbody>\n",
       "    <tr>\n",
       "      <th>0</th>\n",
       "      <td>Exercicios Resolvidos do Halliday sobre Rotaçã...</td>\n",
       "      <td>12970655</td>\n",
       "      <td>2017-02-23 10:46:03.047000</td>\n",
       "    </tr>\n",
       "    <tr>\n",
       "      <th>20</th>\n",
       "      <td>Exercicios Resolvidos do Halliday sobre Rotaçã...</td>\n",
       "      <td>12970655</td>\n",
       "      <td>2017-02-23 10:46:12.370000</td>\n",
       "    </tr>\n",
       "    <tr>\n",
       "      <th>40</th>\n",
       "      <td>CALCULO I</td>\n",
       "      <td>12970655</td>\n",
       "      <td>2017-05-25 22:39:48.000000</td>\n",
       "    </tr>\n",
       "    <tr>\n",
       "      <th>60</th>\n",
       "      <td>CALCULO I</td>\n",
       "      <td>12970655</td>\n",
       "      <td>2017-05-25 22:40:36.000000</td>\n",
       "    </tr>\n",
       "    <tr>\n",
       "      <th>80</th>\n",
       "      <td>CALCULO I</td>\n",
       "      <td>12970655</td>\n",
       "      <td>2017-05-25 22:43:16.000000</td>\n",
       "    </tr>\n",
       "  </tbody>\n",
       "</table>\n",
       "</div>"
      ],
      "text/plain": [
       "                                             FileName  StudentId  \\\n",
       "0   Exercicios Resolvidos do Halliday sobre Rotaçã...   12970655   \n",
       "20  Exercicios Resolvidos do Halliday sobre Rotaçã...   12970655   \n",
       "40                                          CALCULO I   12970655   \n",
       "60                                          CALCULO I   12970655   \n",
       "80                                          CALCULO I   12970655   \n",
       "\n",
       "                      ViewDate  \n",
       "0   2017-02-23 10:46:03.047000  \n",
       "20  2017-02-23 10:46:12.370000  \n",
       "40  2017-05-25 22:39:48.000000  \n",
       "60  2017-05-25 22:40:36.000000  \n",
       "80  2017-05-25 22:43:16.000000  "
      ]
     },
     "execution_count": 9,
     "metadata": {},
     "output_type": "execute_result"
    }
   ],
   "source": [
    "df_f = df_f[['FileName', 'StudentId', 'ViewDate']]\n",
    "df_f = df_f.drop_duplicates()\n",
    "print(df_f.shape)\n",
    "print(df_f.dtypes)\n",
    "df_f.head()"
   ]
  },
  {
   "cell_type": "code",
   "execution_count": 10,
   "metadata": {
    "collapsed": true
   },
   "outputs": [],
   "source": [
    "df_f.loc[:, 'date'] = pd.to_datetime(df_f['ViewDate'])"
   ]
  },
  {
   "cell_type": "code",
   "execution_count": 11,
   "metadata": {},
   "outputs": [
    {
     "data": {
      "text/html": [
       "<div>\n",
       "<style>\n",
       "    .dataframe thead tr:only-child th {\n",
       "        text-align: right;\n",
       "    }\n",
       "\n",
       "    .dataframe thead th {\n",
       "        text-align: left;\n",
       "    }\n",
       "\n",
       "    .dataframe tbody tr th {\n",
       "        vertical-align: top;\n",
       "    }\n",
       "</style>\n",
       "<table border=\"1\" class=\"dataframe\">\n",
       "  <thead>\n",
       "    <tr style=\"text-align: right;\">\n",
       "      <th></th>\n",
       "      <th>FileName</th>\n",
       "      <th>StudentId</th>\n",
       "      <th>ViewDate</th>\n",
       "      <th>date</th>\n",
       "    </tr>\n",
       "  </thead>\n",
       "  <tbody>\n",
       "    <tr>\n",
       "      <th>0</th>\n",
       "      <td>Exercicios Resolvidos do Halliday sobre Rotaçã...</td>\n",
       "      <td>12970655</td>\n",
       "      <td>2017-02-23 10:46:03.047000</td>\n",
       "      <td>2017-02-23 10:46:03.047</td>\n",
       "    </tr>\n",
       "    <tr>\n",
       "      <th>20</th>\n",
       "      <td>Exercicios Resolvidos do Halliday sobre Rotaçã...</td>\n",
       "      <td>12970655</td>\n",
       "      <td>2017-02-23 10:46:12.370000</td>\n",
       "      <td>2017-02-23 10:46:12.370</td>\n",
       "    </tr>\n",
       "    <tr>\n",
       "      <th>40</th>\n",
       "      <td>CALCULO I</td>\n",
       "      <td>12970655</td>\n",
       "      <td>2017-05-25 22:39:48.000000</td>\n",
       "      <td>2017-05-25 22:39:48.000</td>\n",
       "    </tr>\n",
       "    <tr>\n",
       "      <th>60</th>\n",
       "      <td>CALCULO I</td>\n",
       "      <td>12970655</td>\n",
       "      <td>2017-05-25 22:40:36.000000</td>\n",
       "      <td>2017-05-25 22:40:36.000</td>\n",
       "    </tr>\n",
       "    <tr>\n",
       "      <th>80</th>\n",
       "      <td>CALCULO I</td>\n",
       "      <td>12970655</td>\n",
       "      <td>2017-05-25 22:43:16.000000</td>\n",
       "      <td>2017-05-25 22:43:16.000</td>\n",
       "    </tr>\n",
       "  </tbody>\n",
       "</table>\n",
       "</div>"
      ],
      "text/plain": [
       "                                             FileName  StudentId  \\\n",
       "0   Exercicios Resolvidos do Halliday sobre Rotaçã...   12970655   \n",
       "20  Exercicios Resolvidos do Halliday sobre Rotaçã...   12970655   \n",
       "40                                          CALCULO I   12970655   \n",
       "60                                          CALCULO I   12970655   \n",
       "80                                          CALCULO I   12970655   \n",
       "\n",
       "                      ViewDate                    date  \n",
       "0   2017-02-23 10:46:03.047000 2017-02-23 10:46:03.047  \n",
       "20  2017-02-23 10:46:12.370000 2017-02-23 10:46:12.370  \n",
       "40  2017-05-25 22:39:48.000000 2017-05-25 22:39:48.000  \n",
       "60  2017-05-25 22:40:36.000000 2017-05-25 22:40:36.000  \n",
       "80  2017-05-25 22:43:16.000000 2017-05-25 22:43:16.000  "
      ]
     },
     "execution_count": 11,
     "metadata": {},
     "output_type": "execute_result"
    }
   ],
   "source": [
    "df_f.head()"
   ]
  },
  {
   "cell_type": "code",
   "execution_count": 12,
   "metadata": {
    "collapsed": true
   },
   "outputs": [],
   "source": [
    "df_f.loc[:, 'date'] = df_f['date'].dt.normalize()\n",
    "df_f.drop('ViewDate', axis=1, inplace=True)"
   ]
  },
  {
   "cell_type": "code",
   "execution_count": 13,
   "metadata": {},
   "outputs": [
    {
     "data": {
      "text/html": [
       "<div>\n",
       "<style>\n",
       "    .dataframe thead tr:only-child th {\n",
       "        text-align: right;\n",
       "    }\n",
       "\n",
       "    .dataframe thead th {\n",
       "        text-align: left;\n",
       "    }\n",
       "\n",
       "    .dataframe tbody tr th {\n",
       "        vertical-align: top;\n",
       "    }\n",
       "</style>\n",
       "<table border=\"1\" class=\"dataframe\">\n",
       "  <thead>\n",
       "    <tr style=\"text-align: right;\">\n",
       "      <th></th>\n",
       "      <th>FileName</th>\n",
       "      <th>StudentId</th>\n",
       "      <th>date</th>\n",
       "    </tr>\n",
       "  </thead>\n",
       "  <tbody>\n",
       "    <tr>\n",
       "      <th>0</th>\n",
       "      <td>Exercicios Resolvidos do Halliday sobre Rotaçã...</td>\n",
       "      <td>12970655</td>\n",
       "      <td>2017-02-23</td>\n",
       "    </tr>\n",
       "    <tr>\n",
       "      <th>20</th>\n",
       "      <td>Exercicios Resolvidos do Halliday sobre Rotaçã...</td>\n",
       "      <td>12970655</td>\n",
       "      <td>2017-02-23</td>\n",
       "    </tr>\n",
       "    <tr>\n",
       "      <th>40</th>\n",
       "      <td>CALCULO I</td>\n",
       "      <td>12970655</td>\n",
       "      <td>2017-05-25</td>\n",
       "    </tr>\n",
       "    <tr>\n",
       "      <th>60</th>\n",
       "      <td>CALCULO I</td>\n",
       "      <td>12970655</td>\n",
       "      <td>2017-05-25</td>\n",
       "    </tr>\n",
       "    <tr>\n",
       "      <th>80</th>\n",
       "      <td>CALCULO I</td>\n",
       "      <td>12970655</td>\n",
       "      <td>2017-05-25</td>\n",
       "    </tr>\n",
       "  </tbody>\n",
       "</table>\n",
       "</div>"
      ],
      "text/plain": [
       "                                             FileName  StudentId       date\n",
       "0   Exercicios Resolvidos do Halliday sobre Rotaçã...   12970655 2017-02-23\n",
       "20  Exercicios Resolvidos do Halliday sobre Rotaçã...   12970655 2017-02-23\n",
       "40                                          CALCULO I   12970655 2017-05-25\n",
       "60                                          CALCULO I   12970655 2017-05-25\n",
       "80                                          CALCULO I   12970655 2017-05-25"
      ]
     },
     "execution_count": 13,
     "metadata": {},
     "output_type": "execute_result"
    }
   ],
   "source": [
    "df_f.head()"
   ]
  },
  {
   "cell_type": "code",
   "execution_count": 14,
   "metadata": {
    "collapsed": true
   },
   "outputs": [],
   "source": [
    "# filtrando apenas as entradas a partir de nov/17\n",
    "df_nov = df_f[df_f.date >= '2017-11-01']"
   ]
  },
  {
   "cell_type": "code",
   "execution_count": 15,
   "metadata": {},
   "outputs": [
    {
     "name": "stdout",
     "output_type": "stream",
     "text": [
      "(273104, 3)\n"
     ]
    },
    {
     "data": {
      "text/html": [
       "<div>\n",
       "<style>\n",
       "    .dataframe thead tr:only-child th {\n",
       "        text-align: right;\n",
       "    }\n",
       "\n",
       "    .dataframe thead th {\n",
       "        text-align: left;\n",
       "    }\n",
       "\n",
       "    .dataframe tbody tr th {\n",
       "        vertical-align: top;\n",
       "    }\n",
       "</style>\n",
       "<table border=\"1\" class=\"dataframe\">\n",
       "  <thead>\n",
       "    <tr style=\"text-align: right;\">\n",
       "      <th></th>\n",
       "      <th>FileName</th>\n",
       "      <th>StudentId</th>\n",
       "      <th>date</th>\n",
       "    </tr>\n",
       "  </thead>\n",
       "  <tbody>\n",
       "    <tr>\n",
       "      <th>160</th>\n",
       "      <td>Aula 5 - planejamento</td>\n",
       "      <td>12970655</td>\n",
       "      <td>2017-12-04</td>\n",
       "    </tr>\n",
       "    <tr>\n",
       "      <th>180</th>\n",
       "      <td>AV2 Imunologia Básica (Estácio)</td>\n",
       "      <td>12970655</td>\n",
       "      <td>2017-12-04</td>\n",
       "    </tr>\n",
       "    <tr>\n",
       "      <th>320</th>\n",
       "      <td>SELFCOACHING - TÉCNICA PARA CONCURSOS</td>\n",
       "      <td>12970655</td>\n",
       "      <td>2018-04-13</td>\n",
       "    </tr>\n",
       "    <tr>\n",
       "      <th>340</th>\n",
       "      <td>SELFCOACHING - TÉCNICA PARA CONCURSOS</td>\n",
       "      <td>12970655</td>\n",
       "      <td>2018-04-13</td>\n",
       "    </tr>\n",
       "    <tr>\n",
       "      <th>360</th>\n",
       "      <td>SELFCOACHING - TÉCNICA PARA CONCURSOS</td>\n",
       "      <td>12970655</td>\n",
       "      <td>2018-04-13</td>\n",
       "    </tr>\n",
       "  </tbody>\n",
       "</table>\n",
       "</div>"
      ],
      "text/plain": [
       "                                  FileName  StudentId       date\n",
       "160                  Aula 5 - planejamento   12970655 2017-12-04\n",
       "180        AV2 Imunologia Básica (Estácio)   12970655 2017-12-04\n",
       "320  SELFCOACHING - TÉCNICA PARA CONCURSOS   12970655 2018-04-13\n",
       "340  SELFCOACHING - TÉCNICA PARA CONCURSOS   12970655 2018-04-13\n",
       "360  SELFCOACHING - TÉCNICA PARA CONCURSOS   12970655 2018-04-13"
      ]
     },
     "execution_count": 15,
     "metadata": {},
     "output_type": "execute_result"
    }
   ],
   "source": [
    "print(df_nov.shape)\n",
    "df_nov.head()"
   ]
  },
  {
   "cell_type": "code",
   "execution_count": 16,
   "metadata": {},
   "outputs": [
    {
     "name": "stdout",
     "output_type": "stream",
     "text": [
      "2017-11-01 00:00:00\n",
      "2018-06-08 00:00:00\n"
     ]
    }
   ],
   "source": [
    "# data mais antiga e mais recente na df\n",
    "print(df_nov.date.min())\n",
    "print(df_nov.date.max())\n",
    "data_mais_recente = df_nov.date.max()"
   ]
  },
  {
   "cell_type": "code",
   "execution_count": 17,
   "metadata": {
    "collapsed": true
   },
   "outputs": [],
   "source": [
    "# student_id e frequencia\n",
    "df_freq = df_nov.groupby('StudentId')['FileName'].count().reset_index()\n",
    "df_freq.columns = ['StudentId', 'frequencia']\n",
    "df_freq['frequencia'] = df_freq['frequencia'] - 1 "
   ]
  },
  {
   "cell_type": "code",
   "execution_count": 18,
   "metadata": {},
   "outputs": [
    {
     "data": {
      "text/html": [
       "<div>\n",
       "<style>\n",
       "    .dataframe thead tr:only-child th {\n",
       "        text-align: right;\n",
       "    }\n",
       "\n",
       "    .dataframe thead th {\n",
       "        text-align: left;\n",
       "    }\n",
       "\n",
       "    .dataframe tbody tr th {\n",
       "        vertical-align: top;\n",
       "    }\n",
       "</style>\n",
       "<table border=\"1\" class=\"dataframe\">\n",
       "  <thead>\n",
       "    <tr style=\"text-align: right;\">\n",
       "      <th></th>\n",
       "      <th>StudentId</th>\n",
       "      <th>frequencia</th>\n",
       "    </tr>\n",
       "  </thead>\n",
       "  <tbody>\n",
       "    <tr>\n",
       "      <th>0</th>\n",
       "      <td>43621</td>\n",
       "      <td>461</td>\n",
       "    </tr>\n",
       "    <tr>\n",
       "      <th>1</th>\n",
       "      <td>51498</td>\n",
       "      <td>2</td>\n",
       "    </tr>\n",
       "    <tr>\n",
       "      <th>2</th>\n",
       "      <td>105540</td>\n",
       "      <td>74</td>\n",
       "    </tr>\n",
       "    <tr>\n",
       "      <th>3</th>\n",
       "      <td>258634</td>\n",
       "      <td>67</td>\n",
       "    </tr>\n",
       "    <tr>\n",
       "      <th>4</th>\n",
       "      <td>311572</td>\n",
       "      <td>141</td>\n",
       "    </tr>\n",
       "    <tr>\n",
       "      <th>5</th>\n",
       "      <td>344828</td>\n",
       "      <td>33</td>\n",
       "    </tr>\n",
       "    <tr>\n",
       "      <th>6</th>\n",
       "      <td>357822</td>\n",
       "      <td>40</td>\n",
       "    </tr>\n",
       "    <tr>\n",
       "      <th>7</th>\n",
       "      <td>370507</td>\n",
       "      <td>12</td>\n",
       "    </tr>\n",
       "    <tr>\n",
       "      <th>8</th>\n",
       "      <td>486826</td>\n",
       "      <td>19</td>\n",
       "    </tr>\n",
       "    <tr>\n",
       "      <th>9</th>\n",
       "      <td>582516</td>\n",
       "      <td>358</td>\n",
       "    </tr>\n",
       "    <tr>\n",
       "      <th>10</th>\n",
       "      <td>589459</td>\n",
       "      <td>34</td>\n",
       "    </tr>\n",
       "    <tr>\n",
       "      <th>11</th>\n",
       "      <td>596343</td>\n",
       "      <td>55</td>\n",
       "    </tr>\n",
       "    <tr>\n",
       "      <th>12</th>\n",
       "      <td>706515</td>\n",
       "      <td>121</td>\n",
       "    </tr>\n",
       "    <tr>\n",
       "      <th>13</th>\n",
       "      <td>796067</td>\n",
       "      <td>195</td>\n",
       "    </tr>\n",
       "    <tr>\n",
       "      <th>14</th>\n",
       "      <td>811899</td>\n",
       "      <td>75</td>\n",
       "    </tr>\n",
       "  </tbody>\n",
       "</table>\n",
       "</div>"
      ],
      "text/plain": [
       "    StudentId  frequencia\n",
       "0       43621         461\n",
       "1       51498           2\n",
       "2      105540          74\n",
       "3      258634          67\n",
       "4      311572         141\n",
       "5      344828          33\n",
       "6      357822          40\n",
       "7      370507          12\n",
       "8      486826          19\n",
       "9      582516         358\n",
       "10     589459          34\n",
       "11     596343          55\n",
       "12     706515         121\n",
       "13     796067         195\n",
       "14     811899          75"
      ]
     },
     "execution_count": 18,
     "metadata": {},
     "output_type": "execute_result"
    }
   ],
   "source": [
    "df_freq.head(15)"
   ]
  },
  {
   "cell_type": "markdown",
   "metadata": {},
   "source": [
    "# tempo de assinatura do usuário na base de dados (considerando os dados a partir de nov/17)"
   ]
  },
  {
   "cell_type": "code",
   "execution_count": 19,
   "metadata": {},
   "outputs": [
    {
     "data": {
      "text/html": [
       "<div>\n",
       "<style>\n",
       "    .dataframe thead tr:only-child th {\n",
       "        text-align: right;\n",
       "    }\n",
       "\n",
       "    .dataframe thead th {\n",
       "        text-align: left;\n",
       "    }\n",
       "\n",
       "    .dataframe tbody tr th {\n",
       "        vertical-align: top;\n",
       "    }\n",
       "</style>\n",
       "<table border=\"1\" class=\"dataframe\">\n",
       "  <thead>\n",
       "    <tr style=\"text-align: right;\">\n",
       "      <th></th>\n",
       "      <th>StudentId</th>\n",
       "      <th>primeira_visita</th>\n",
       "    </tr>\n",
       "  </thead>\n",
       "  <tbody>\n",
       "    <tr>\n",
       "      <th>0</th>\n",
       "      <td>43621</td>\n",
       "      <td>2017-11-17</td>\n",
       "    </tr>\n",
       "    <tr>\n",
       "      <th>1</th>\n",
       "      <td>51498</td>\n",
       "      <td>2017-11-22</td>\n",
       "    </tr>\n",
       "    <tr>\n",
       "      <th>2</th>\n",
       "      <td>105540</td>\n",
       "      <td>2017-11-14</td>\n",
       "    </tr>\n",
       "    <tr>\n",
       "      <th>3</th>\n",
       "      <td>258634</td>\n",
       "      <td>2017-11-12</td>\n",
       "    </tr>\n",
       "    <tr>\n",
       "      <th>4</th>\n",
       "      <td>311572</td>\n",
       "      <td>2017-11-23</td>\n",
       "    </tr>\n",
       "  </tbody>\n",
       "</table>\n",
       "</div>"
      ],
      "text/plain": [
       "   StudentId primeira_visita\n",
       "0      43621      2017-11-17\n",
       "1      51498      2017-11-22\n",
       "2     105540      2017-11-14\n",
       "3     258634      2017-11-12\n",
       "4     311572      2017-11-23"
      ]
     },
     "execution_count": 19,
     "metadata": {},
     "output_type": "execute_result"
    }
   ],
   "source": [
    "df_tempo = df_nov.groupby('StudentId')['date'].min().reset_index()\n",
    "df_tempo.columns = ['StudentId', 'primeira_visita']\n",
    "df_tempo.head()"
   ]
  },
  {
   "cell_type": "code",
   "execution_count": 20,
   "metadata": {},
   "outputs": [
    {
     "name": "stdout",
     "output_type": "stream",
     "text": [
      "2018-06-08 00:00:00\n"
     ]
    }
   ],
   "source": [
    "print(data_mais_recente)"
   ]
  },
  {
   "cell_type": "code",
   "execution_count": 21,
   "metadata": {},
   "outputs": [
    {
     "data": {
      "text/html": [
       "<div>\n",
       "<style>\n",
       "    .dataframe thead tr:only-child th {\n",
       "        text-align: right;\n",
       "    }\n",
       "\n",
       "    .dataframe thead th {\n",
       "        text-align: left;\n",
       "    }\n",
       "\n",
       "    .dataframe tbody tr th {\n",
       "        vertical-align: top;\n",
       "    }\n",
       "</style>\n",
       "<table border=\"1\" class=\"dataframe\">\n",
       "  <thead>\n",
       "    <tr style=\"text-align: right;\">\n",
       "      <th></th>\n",
       "      <th>StudentId</th>\n",
       "      <th>primeira_visita</th>\n",
       "      <th>tempo_assinatura</th>\n",
       "    </tr>\n",
       "  </thead>\n",
       "  <tbody>\n",
       "    <tr>\n",
       "      <th>0</th>\n",
       "      <td>43621</td>\n",
       "      <td>2017-11-17</td>\n",
       "      <td>203 days</td>\n",
       "    </tr>\n",
       "    <tr>\n",
       "      <th>1</th>\n",
       "      <td>51498</td>\n",
       "      <td>2017-11-22</td>\n",
       "      <td>198 days</td>\n",
       "    </tr>\n",
       "    <tr>\n",
       "      <th>2</th>\n",
       "      <td>105540</td>\n",
       "      <td>2017-11-14</td>\n",
       "      <td>206 days</td>\n",
       "    </tr>\n",
       "    <tr>\n",
       "      <th>3</th>\n",
       "      <td>258634</td>\n",
       "      <td>2017-11-12</td>\n",
       "      <td>208 days</td>\n",
       "    </tr>\n",
       "    <tr>\n",
       "      <th>4</th>\n",
       "      <td>311572</td>\n",
       "      <td>2017-11-23</td>\n",
       "      <td>197 days</td>\n",
       "    </tr>\n",
       "  </tbody>\n",
       "</table>\n",
       "</div>"
      ],
      "text/plain": [
       "   StudentId primeira_visita tempo_assinatura\n",
       "0      43621      2017-11-17         203 days\n",
       "1      51498      2017-11-22         198 days\n",
       "2     105540      2017-11-14         206 days\n",
       "3     258634      2017-11-12         208 days\n",
       "4     311572      2017-11-23         197 days"
      ]
     },
     "execution_count": 21,
     "metadata": {},
     "output_type": "execute_result"
    }
   ],
   "source": [
    "df_tempo['tempo_assinatura'] = data_mais_recente - df_tempo['primeira_visita']\n",
    "df_tempo.head()"
   ]
  },
  {
   "cell_type": "code",
   "execution_count": 22,
   "metadata": {},
   "outputs": [
    {
     "data": {
      "text/html": [
       "<div>\n",
       "<style>\n",
       "    .dataframe thead tr:only-child th {\n",
       "        text-align: right;\n",
       "    }\n",
       "\n",
       "    .dataframe thead th {\n",
       "        text-align: left;\n",
       "    }\n",
       "\n",
       "    .dataframe tbody tr th {\n",
       "        vertical-align: top;\n",
       "    }\n",
       "</style>\n",
       "<table border=\"1\" class=\"dataframe\">\n",
       "  <thead>\n",
       "    <tr style=\"text-align: right;\">\n",
       "      <th></th>\n",
       "      <th>StudentId</th>\n",
       "      <th>tempo_assinatura</th>\n",
       "    </tr>\n",
       "  </thead>\n",
       "  <tbody>\n",
       "    <tr>\n",
       "      <th>0</th>\n",
       "      <td>43621</td>\n",
       "      <td>203 days</td>\n",
       "    </tr>\n",
       "    <tr>\n",
       "      <th>1</th>\n",
       "      <td>51498</td>\n",
       "      <td>198 days</td>\n",
       "    </tr>\n",
       "    <tr>\n",
       "      <th>2</th>\n",
       "      <td>105540</td>\n",
       "      <td>206 days</td>\n",
       "    </tr>\n",
       "    <tr>\n",
       "      <th>3</th>\n",
       "      <td>258634</td>\n",
       "      <td>208 days</td>\n",
       "    </tr>\n",
       "    <tr>\n",
       "      <th>4</th>\n",
       "      <td>311572</td>\n",
       "      <td>197 days</td>\n",
       "    </tr>\n",
       "  </tbody>\n",
       "</table>\n",
       "</div>"
      ],
      "text/plain": [
       "   StudentId tempo_assinatura\n",
       "0      43621         203 days\n",
       "1      51498         198 days\n",
       "2     105540         206 days\n",
       "3     258634         208 days\n",
       "4     311572         197 days"
      ]
     },
     "execution_count": 22,
     "metadata": {},
     "output_type": "execute_result"
    }
   ],
   "source": [
    "df_tempo_assinatura = df_tempo[['StudentId', 'tempo_assinatura']]\n",
    "df_tempo_assinatura.head()"
   ]
  },
  {
   "cell_type": "markdown",
   "metadata": {},
   "source": [
    "# Recência do usuário\n",
    "tempo de assinatura, em dias, do usuário na base na última vez que ele visualizou um arquivo"
   ]
  },
  {
   "cell_type": "code",
   "execution_count": 23,
   "metadata": {
    "collapsed": true
   },
   "outputs": [],
   "source": [
    "df_recencia = df_nov.groupby('StudentId')['date'].max().reset_index()\n",
    "df_recencia.columns = ['StudentId', 'ultima_visita']\n",
    "# recencia nula significa que o usuário só visualizou um arquivo \n",
    "# na primeira vez que ele entrou no site"
   ]
  },
  {
   "cell_type": "code",
   "execution_count": 24,
   "metadata": {},
   "outputs": [
    {
     "data": {
      "text/html": [
       "<div>\n",
       "<style>\n",
       "    .dataframe thead tr:only-child th {\n",
       "        text-align: right;\n",
       "    }\n",
       "\n",
       "    .dataframe thead th {\n",
       "        text-align: left;\n",
       "    }\n",
       "\n",
       "    .dataframe tbody tr th {\n",
       "        vertical-align: top;\n",
       "    }\n",
       "</style>\n",
       "<table border=\"1\" class=\"dataframe\">\n",
       "  <thead>\n",
       "    <tr style=\"text-align: right;\">\n",
       "      <th></th>\n",
       "      <th>StudentId</th>\n",
       "      <th>ultima_visita</th>\n",
       "    </tr>\n",
       "  </thead>\n",
       "  <tbody>\n",
       "    <tr>\n",
       "      <th>0</th>\n",
       "      <td>43621</td>\n",
       "      <td>2018-06-07</td>\n",
       "    </tr>\n",
       "    <tr>\n",
       "      <th>1</th>\n",
       "      <td>51498</td>\n",
       "      <td>2018-06-07</td>\n",
       "    </tr>\n",
       "    <tr>\n",
       "      <th>2</th>\n",
       "      <td>105540</td>\n",
       "      <td>2018-05-08</td>\n",
       "    </tr>\n",
       "    <tr>\n",
       "      <th>3</th>\n",
       "      <td>258634</td>\n",
       "      <td>2018-04-04</td>\n",
       "    </tr>\n",
       "    <tr>\n",
       "      <th>4</th>\n",
       "      <td>311572</td>\n",
       "      <td>2018-06-06</td>\n",
       "    </tr>\n",
       "  </tbody>\n",
       "</table>\n",
       "</div>"
      ],
      "text/plain": [
       "   StudentId ultima_visita\n",
       "0      43621    2018-06-07\n",
       "1      51498    2018-06-07\n",
       "2     105540    2018-05-08\n",
       "3     258634    2018-04-04\n",
       "4     311572    2018-06-06"
      ]
     },
     "execution_count": 24,
     "metadata": {},
     "output_type": "execute_result"
    }
   ],
   "source": [
    "df_recencia.head()"
   ]
  },
  {
   "cell_type": "code",
   "execution_count": 25,
   "metadata": {
    "collapsed": true
   },
   "outputs": [],
   "source": [
    "df_recencia = pd.merge(df_recencia, df_tempo, how='outer', on='StudentId', indicator=True)"
   ]
  },
  {
   "cell_type": "code",
   "execution_count": 26,
   "metadata": {},
   "outputs": [
    {
     "name": "stdout",
     "output_type": "stream",
     "text": [
      "both          1957\n",
      "right_only       0\n",
      "left_only        0\n",
      "Name: _merge, dtype: int64\n"
     ]
    },
    {
     "data": {
      "text/html": [
       "<div>\n",
       "<style>\n",
       "    .dataframe thead tr:only-child th {\n",
       "        text-align: right;\n",
       "    }\n",
       "\n",
       "    .dataframe thead th {\n",
       "        text-align: left;\n",
       "    }\n",
       "\n",
       "    .dataframe tbody tr th {\n",
       "        vertical-align: top;\n",
       "    }\n",
       "</style>\n",
       "<table border=\"1\" class=\"dataframe\">\n",
       "  <thead>\n",
       "    <tr style=\"text-align: right;\">\n",
       "      <th></th>\n",
       "      <th>StudentId</th>\n",
       "      <th>ultima_visita</th>\n",
       "      <th>primeira_visita</th>\n",
       "      <th>tempo_assinatura</th>\n",
       "      <th>_merge</th>\n",
       "    </tr>\n",
       "  </thead>\n",
       "  <tbody>\n",
       "    <tr>\n",
       "      <th>0</th>\n",
       "      <td>43621</td>\n",
       "      <td>2018-06-07</td>\n",
       "      <td>2017-11-17</td>\n",
       "      <td>203 days</td>\n",
       "      <td>both</td>\n",
       "    </tr>\n",
       "    <tr>\n",
       "      <th>1</th>\n",
       "      <td>51498</td>\n",
       "      <td>2018-06-07</td>\n",
       "      <td>2017-11-22</td>\n",
       "      <td>198 days</td>\n",
       "      <td>both</td>\n",
       "    </tr>\n",
       "    <tr>\n",
       "      <th>2</th>\n",
       "      <td>105540</td>\n",
       "      <td>2018-05-08</td>\n",
       "      <td>2017-11-14</td>\n",
       "      <td>206 days</td>\n",
       "      <td>both</td>\n",
       "    </tr>\n",
       "    <tr>\n",
       "      <th>3</th>\n",
       "      <td>258634</td>\n",
       "      <td>2018-04-04</td>\n",
       "      <td>2017-11-12</td>\n",
       "      <td>208 days</td>\n",
       "      <td>both</td>\n",
       "    </tr>\n",
       "    <tr>\n",
       "      <th>4</th>\n",
       "      <td>311572</td>\n",
       "      <td>2018-06-06</td>\n",
       "      <td>2017-11-23</td>\n",
       "      <td>197 days</td>\n",
       "      <td>both</td>\n",
       "    </tr>\n",
       "  </tbody>\n",
       "</table>\n",
       "</div>"
      ],
      "text/plain": [
       "   StudentId ultima_visita primeira_visita tempo_assinatura _merge\n",
       "0      43621    2018-06-07      2017-11-17         203 days   both\n",
       "1      51498    2018-06-07      2017-11-22         198 days   both\n",
       "2     105540    2018-05-08      2017-11-14         206 days   both\n",
       "3     258634    2018-04-04      2017-11-12         208 days   both\n",
       "4     311572    2018-06-06      2017-11-23         197 days   both"
      ]
     },
     "execution_count": 26,
     "metadata": {},
     "output_type": "execute_result"
    }
   ],
   "source": [
    "print(df_recencia['_merge'].value_counts())\n",
    "df_recencia.head()"
   ]
  },
  {
   "cell_type": "code",
   "execution_count": 27,
   "metadata": {},
   "outputs": [
    {
     "data": {
      "text/html": [
       "<div>\n",
       "<style>\n",
       "    .dataframe thead tr:only-child th {\n",
       "        text-align: right;\n",
       "    }\n",
       "\n",
       "    .dataframe thead th {\n",
       "        text-align: left;\n",
       "    }\n",
       "\n",
       "    .dataframe tbody tr th {\n",
       "        vertical-align: top;\n",
       "    }\n",
       "</style>\n",
       "<table border=\"1\" class=\"dataframe\">\n",
       "  <thead>\n",
       "    <tr style=\"text-align: right;\">\n",
       "      <th></th>\n",
       "      <th>StudentId</th>\n",
       "      <th>ultima_visita</th>\n",
       "      <th>primeira_visita</th>\n",
       "      <th>tempo_assinatura</th>\n",
       "      <th>_merge</th>\n",
       "      <th>recencia</th>\n",
       "    </tr>\n",
       "  </thead>\n",
       "  <tbody>\n",
       "    <tr>\n",
       "      <th>0</th>\n",
       "      <td>43621</td>\n",
       "      <td>2018-06-07</td>\n",
       "      <td>2017-11-17</td>\n",
       "      <td>203 days</td>\n",
       "      <td>both</td>\n",
       "      <td>202 days</td>\n",
       "    </tr>\n",
       "    <tr>\n",
       "      <th>1</th>\n",
       "      <td>51498</td>\n",
       "      <td>2018-06-07</td>\n",
       "      <td>2017-11-22</td>\n",
       "      <td>198 days</td>\n",
       "      <td>both</td>\n",
       "      <td>197 days</td>\n",
       "    </tr>\n",
       "    <tr>\n",
       "      <th>2</th>\n",
       "      <td>105540</td>\n",
       "      <td>2018-05-08</td>\n",
       "      <td>2017-11-14</td>\n",
       "      <td>206 days</td>\n",
       "      <td>both</td>\n",
       "      <td>175 days</td>\n",
       "    </tr>\n",
       "    <tr>\n",
       "      <th>3</th>\n",
       "      <td>258634</td>\n",
       "      <td>2018-04-04</td>\n",
       "      <td>2017-11-12</td>\n",
       "      <td>208 days</td>\n",
       "      <td>both</td>\n",
       "      <td>143 days</td>\n",
       "    </tr>\n",
       "    <tr>\n",
       "      <th>4</th>\n",
       "      <td>311572</td>\n",
       "      <td>2018-06-06</td>\n",
       "      <td>2017-11-23</td>\n",
       "      <td>197 days</td>\n",
       "      <td>both</td>\n",
       "      <td>195 days</td>\n",
       "    </tr>\n",
       "  </tbody>\n",
       "</table>\n",
       "</div>"
      ],
      "text/plain": [
       "   StudentId ultima_visita primeira_visita tempo_assinatura _merge recencia\n",
       "0      43621    2018-06-07      2017-11-17         203 days   both 202 days\n",
       "1      51498    2018-06-07      2017-11-22         198 days   both 197 days\n",
       "2     105540    2018-05-08      2017-11-14         206 days   both 175 days\n",
       "3     258634    2018-04-04      2017-11-12         208 days   both 143 days\n",
       "4     311572    2018-06-06      2017-11-23         197 days   both 195 days"
      ]
     },
     "execution_count": 27,
     "metadata": {},
     "output_type": "execute_result"
    }
   ],
   "source": [
    "df_recencia['recencia'] = df_recencia['ultima_visita'] - df_recencia['primeira_visita']\n",
    "df_recencia.head()"
   ]
  },
  {
   "cell_type": "code",
   "execution_count": 28,
   "metadata": {
    "collapsed": true
   },
   "outputs": [],
   "source": [
    "df_recencia = df_recencia[['StudentId', 'recencia']]"
   ]
  },
  {
   "cell_type": "markdown",
   "metadata": {},
   "source": [
    "# Base para LTV"
   ]
  },
  {
   "cell_type": "code",
   "execution_count": 29,
   "metadata": {
    "collapsed": true
   },
   "outputs": [],
   "source": [
    "df_ = pd.merge(df_freq, df_tempo_assinatura, how='outer', on='StudentId')"
   ]
  },
  {
   "cell_type": "code",
   "execution_count": 30,
   "metadata": {},
   "outputs": [
    {
     "data": {
      "text/plain": [
       "(1957, 3)"
      ]
     },
     "execution_count": 30,
     "metadata": {},
     "output_type": "execute_result"
    }
   ],
   "source": [
    "df_.shape"
   ]
  },
  {
   "cell_type": "code",
   "execution_count": 31,
   "metadata": {
    "collapsed": true
   },
   "outputs": [],
   "source": [
    "df_ltv = pd.merge(df_, df_recencia, how='outer', on='StudentId')"
   ]
  },
  {
   "cell_type": "code",
   "execution_count": 32,
   "metadata": {},
   "outputs": [
    {
     "data": {
      "text/plain": [
       "(1957, 4)"
      ]
     },
     "execution_count": 32,
     "metadata": {},
     "output_type": "execute_result"
    }
   ],
   "source": [
    "df_ltv.shape"
   ]
  },
  {
   "cell_type": "code",
   "execution_count": 33,
   "metadata": {},
   "outputs": [
    {
     "name": "stdout",
     "output_type": "stream",
     "text": [
      "<class 'pandas.core.frame.DataFrame'>\n",
      "Int64Index: 1957 entries, 0 to 1956\n",
      "Data columns (total 4 columns):\n",
      "StudentId           1957 non-null int64\n",
      "frequencia          1957 non-null int64\n",
      "tempo_assinatura    1957 non-null timedelta64[ns]\n",
      "recencia            1957 non-null timedelta64[ns]\n",
      "dtypes: int64(2), timedelta64[ns](2)\n",
      "memory usage: 76.4 KB\n"
     ]
    }
   ],
   "source": [
    "df_ltv.info()"
   ]
  },
  {
   "cell_type": "code",
   "execution_count": 34,
   "metadata": {},
   "outputs": [
    {
     "data": {
      "text/html": [
       "<div>\n",
       "<style>\n",
       "    .dataframe thead tr:only-child th {\n",
       "        text-align: right;\n",
       "    }\n",
       "\n",
       "    .dataframe thead th {\n",
       "        text-align: left;\n",
       "    }\n",
       "\n",
       "    .dataframe tbody tr th {\n",
       "        vertical-align: top;\n",
       "    }\n",
       "</style>\n",
       "<table border=\"1\" class=\"dataframe\">\n",
       "  <thead>\n",
       "    <tr style=\"text-align: right;\">\n",
       "      <th></th>\n",
       "      <th>StudentId</th>\n",
       "      <th>frequencia</th>\n",
       "      <th>tempo_assinatura</th>\n",
       "      <th>recencia</th>\n",
       "    </tr>\n",
       "  </thead>\n",
       "  <tbody>\n",
       "    <tr>\n",
       "      <th>0</th>\n",
       "      <td>43621</td>\n",
       "      <td>461</td>\n",
       "      <td>203 days</td>\n",
       "      <td>202 days</td>\n",
       "    </tr>\n",
       "    <tr>\n",
       "      <th>1</th>\n",
       "      <td>51498</td>\n",
       "      <td>2</td>\n",
       "      <td>198 days</td>\n",
       "      <td>197 days</td>\n",
       "    </tr>\n",
       "    <tr>\n",
       "      <th>2</th>\n",
       "      <td>105540</td>\n",
       "      <td>74</td>\n",
       "      <td>206 days</td>\n",
       "      <td>175 days</td>\n",
       "    </tr>\n",
       "    <tr>\n",
       "      <th>3</th>\n",
       "      <td>258634</td>\n",
       "      <td>67</td>\n",
       "      <td>208 days</td>\n",
       "      <td>143 days</td>\n",
       "    </tr>\n",
       "    <tr>\n",
       "      <th>4</th>\n",
       "      <td>311572</td>\n",
       "      <td>141</td>\n",
       "      <td>197 days</td>\n",
       "      <td>195 days</td>\n",
       "    </tr>\n",
       "  </tbody>\n",
       "</table>\n",
       "</div>"
      ],
      "text/plain": [
       "   StudentId  frequencia tempo_assinatura recencia\n",
       "0      43621         461         203 days 202 days\n",
       "1      51498           2         198 days 197 days\n",
       "2     105540          74         206 days 175 days\n",
       "3     258634          67         208 days 143 days\n",
       "4     311572         141         197 days 195 days"
      ]
     },
     "execution_count": 34,
     "metadata": {},
     "output_type": "execute_result"
    }
   ],
   "source": [
    "df_ltv.head()"
   ]
  },
  {
   "cell_type": "code",
   "execution_count": 35,
   "metadata": {},
   "outputs": [
    {
     "data": {
      "text/plain": [
       "StudentId                     int64\n",
       "frequencia                    int64\n",
       "tempo_assinatura    timedelta64[ns]\n",
       "recencia            timedelta64[ns]\n",
       "dtype: object"
      ]
     },
     "execution_count": 35,
     "metadata": {},
     "output_type": "execute_result"
    }
   ],
   "source": [
    "df_ltv.dtypes"
   ]
  },
  {
   "cell_type": "code",
   "execution_count": 36,
   "metadata": {
    "collapsed": true
   },
   "outputs": [],
   "source": [
    "df_ltv.loc[:,'tempo_assinatura'] = df_ltv['tempo_assinatura'].dt.days\n",
    "df_ltv.loc[:,'recencia'] = df_ltv['recencia'].dt.days"
   ]
  },
  {
   "cell_type": "code",
   "execution_count": 37,
   "metadata": {},
   "outputs": [
    {
     "data": {
      "text/html": [
       "<div>\n",
       "<style>\n",
       "    .dataframe thead tr:only-child th {\n",
       "        text-align: right;\n",
       "    }\n",
       "\n",
       "    .dataframe thead th {\n",
       "        text-align: left;\n",
       "    }\n",
       "\n",
       "    .dataframe tbody tr th {\n",
       "        vertical-align: top;\n",
       "    }\n",
       "</style>\n",
       "<table border=\"1\" class=\"dataframe\">\n",
       "  <thead>\n",
       "    <tr style=\"text-align: right;\">\n",
       "      <th></th>\n",
       "      <th>StudentId</th>\n",
       "      <th>frequencia</th>\n",
       "      <th>tempo_assinatura</th>\n",
       "      <th>recencia</th>\n",
       "    </tr>\n",
       "  </thead>\n",
       "  <tbody>\n",
       "    <tr>\n",
       "      <th>0</th>\n",
       "      <td>43621</td>\n",
       "      <td>461</td>\n",
       "      <td>203</td>\n",
       "      <td>202</td>\n",
       "    </tr>\n",
       "    <tr>\n",
       "      <th>1</th>\n",
       "      <td>51498</td>\n",
       "      <td>2</td>\n",
       "      <td>198</td>\n",
       "      <td>197</td>\n",
       "    </tr>\n",
       "    <tr>\n",
       "      <th>2</th>\n",
       "      <td>105540</td>\n",
       "      <td>74</td>\n",
       "      <td>206</td>\n",
       "      <td>175</td>\n",
       "    </tr>\n",
       "    <tr>\n",
       "      <th>3</th>\n",
       "      <td>258634</td>\n",
       "      <td>67</td>\n",
       "      <td>208</td>\n",
       "      <td>143</td>\n",
       "    </tr>\n",
       "    <tr>\n",
       "      <th>4</th>\n",
       "      <td>311572</td>\n",
       "      <td>141</td>\n",
       "      <td>197</td>\n",
       "      <td>195</td>\n",
       "    </tr>\n",
       "  </tbody>\n",
       "</table>\n",
       "</div>"
      ],
      "text/plain": [
       "   StudentId  frequencia  tempo_assinatura  recencia\n",
       "0      43621         461               203       202\n",
       "1      51498           2               198       197\n",
       "2     105540          74               206       175\n",
       "3     258634          67               208       143\n",
       "4     311572         141               197       195"
      ]
     },
     "execution_count": 37,
     "metadata": {},
     "output_type": "execute_result"
    }
   ],
   "source": [
    "df_ltv.head()"
   ]
  },
  {
   "cell_type": "code",
   "execution_count": 38,
   "metadata": {},
   "outputs": [
    {
     "data": {
      "text/plain": [
       "1957"
      ]
     },
     "execution_count": 38,
     "metadata": {},
     "output_type": "execute_result"
    }
   ],
   "source": [
    "len(df_ltv['StudentId'].drop_duplicates().dropna())"
   ]
  },
  {
   "cell_type": "code",
   "execution_count": 39,
   "metadata": {},
   "outputs": [
    {
     "name": "stdout",
     "output_type": "stream",
     "text": [
      "205.240674502\n",
      "211.0\n"
     ]
    },
    {
     "data": {
      "image/png": "[encoded data removed]",
      "text/plain": [
       "<matplotlib.figure.Figure at 0x7f49051255d0>"
      ]
     },
     "metadata": {},
     "output_type": "display_data"
    }
   ],
   "source": [
    "# histograma do tempo de assinatura\n",
    "\n",
    "print(df_ltv['tempo_assinatura'].mean())\n",
    "print(df_ltv['tempo_assinatura'].median())\n",
    "\n",
    "plt.hist(df_ltv['tempo_assinatura'], color='orange', alpha=0.5)\n",
    "plt.xlabel('tempo de assinatura')  \n",
    "plt.ylabel('frequencia')\n",
    "plt.title('', fontsize=20)\n",
    "\n",
    "plt.legend()\n",
    "plt.savefig('hist_tempo_assinatura.png', dpi=100)\n",
    "plt.show();\n"
   ]
  },
  {
   "cell_type": "code",
   "execution_count": 40,
   "metadata": {},
   "outputs": [
    {
     "name": "stdout",
     "output_type": "stream",
     "text": [
      "138.552376086\n",
      "84.0\n"
     ]
    },
    {
     "data": {
      "image/png": "[encoded data removed]",
      "text/plain": [
       "<matplotlib.figure.Figure at 0x7f4904d79b90>"
      ]
     },
     "metadata": {},
     "output_type": "display_data"
    }
   ],
   "source": [
    "# histograma da frequencia\n",
    "\n",
    "print(df_ltv['frequencia'].mean())\n",
    "print(df_ltv['frequencia'].median())\n",
    "\n",
    "plt.hist(df_ltv['frequencia'], color='orange', alpha=0.5)\n",
    "plt.xlabel('arquivos visualizados')  \n",
    "plt.ylabel('frequencia')\n",
    "plt.title('', fontsize=20)\n",
    "\n",
    "plt.legend()\n",
    "plt.savefig('hist_frequencia.png', dpi=100)\n",
    "plt.show();\n"
   ]
  },
  {
   "cell_type": "code",
   "execution_count": 41,
   "metadata": {},
   "outputs": [
    {
     "name": "stdout",
     "output_type": "stream",
     "text": [
      "160.381706694\n",
      "195.0\n"
     ]
    },
    {
     "data": {
      "image/png": "[encoded data removed]",
      "text/plain": [
       "<matplotlib.figure.Figure at 0x7f4905066950>"
      ]
     },
     "metadata": {},
     "output_type": "display_data"
    }
   ],
   "source": [
    "# histograma da recencia\n",
    "\n",
    "print(df_ltv['recencia'].mean())\n",
    "print(df_ltv['recencia'].median())\n",
    "\n",
    "plt.hist(df_ltv['recencia'], color='orange', alpha=0.5)\n",
    "plt.xlabel('recencia')  \n",
    "plt.ylabel('frequencia')\n",
    "plt.title('', fontsize=20)\n",
    "\n",
    "plt.legend()\n",
    "plt.savefig('hist_recencia.png', dpi=100)\n",
    "plt.show();"
   ]
  },
  {
   "cell_type": "code",
   "execution_count": null,
   "metadata": {
    "collapsed": true
   },
   "outputs": [],
   "source": []
  }
 ],
 "metadata": {
  "kernelspec": {
   "display_name": "Python 2",
   "language": "python",
   "name": "python2"
  },
  "language_info": {
   "codemirror_mode": {
    "name": "ipython",
    "version": 2
   },
   "file_extension": ".py",
   "mimetype": "text/x-python",
   "name": "python",
   "nbconvert_exporter": "python",
   "pygments_lexer": "ipython2",
   "version": "2.7.13"
  }
 },
 "nbformat": 4,
 "nbformat_minor": 2
}
