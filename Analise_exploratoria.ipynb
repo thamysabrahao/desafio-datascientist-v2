{
 "cells": [
  {
   "cell_type": "code",
   "execution_count": 2,
   "metadata": {
    "collapsed": true
   },
   "outputs": [],
   "source": [
    "# Thamys Abrahao - 06/2018\n",
    "import pandas as pd\n",
    "import json\n",
    "import numpy as np\n",
    "import matplotlib.pyplot as plt\n",
    "import seaborn as sns\n",
    "%matplotlib inline\n",
    "sns.set(rc={'figure.figsize':(7.7,7.7)}) # graph size"
   ]
  },
  {
   "cell_type": "markdown",
   "metadata": {},
   "source": [
    "# De qual forma os usuários mais fazem login no Passei Direto?"
   ]
  },
  {
   "cell_type": "code",
   "execution_count": 3,
   "metadata": {
    "collapsed": true
   },
   "outputs": [],
   "source": [
    "# Tipo de login\n",
    "with open('students.json', 'r') as f:\n",
    "    data = json.load(f)\n",
    "    \n",
    "df_students = pd.DataFrame(data)"
   ]
  },
  {
   "cell_type": "code",
   "execution_count": 4,
   "metadata": {},
   "outputs": [
    {
     "data": {
      "text/html": [
       "<div>\n",
       "<style>\n",
       "    .dataframe thead tr:only-child th {\n",
       "        text-align: right;\n",
       "    }\n",
       "\n",
       "    .dataframe thead th {\n",
       "        text-align: left;\n",
       "    }\n",
       "\n",
       "    .dataframe tbody tr th {\n",
       "        vertical-align: top;\n",
       "    }\n",
       "</style>\n",
       "<table border=\"1\" class=\"dataframe\">\n",
       "  <thead>\n",
       "    <tr style=\"text-align: right;\">\n",
       "      <th></th>\n",
       "      <th>City</th>\n",
       "      <th>CourseName</th>\n",
       "      <th>Id</th>\n",
       "      <th>RegisteredDate</th>\n",
       "      <th>SignupSource</th>\n",
       "      <th>State</th>\n",
       "      <th>StudentClient</th>\n",
       "      <th>UniversityName</th>\n",
       "    </tr>\n",
       "  </thead>\n",
       "  <tbody>\n",
       "    <tr>\n",
       "      <th>0</th>\n",
       "      <td>NaN</td>\n",
       "      <td>Administração</td>\n",
       "      <td>12970655</td>\n",
       "      <td>2012-05-29 15:22:27.490000</td>\n",
       "      <td>Email</td>\n",
       "      <td>Rio de Janeiro</td>\n",
       "      <td>NaN</td>\n",
       "      <td>PUC-RIO</td>\n",
       "    </tr>\n",
       "    <tr>\n",
       "      <th>1</th>\n",
       "      <td>Rio de Janeiro</td>\n",
       "      <td>Direito do Trabalho e Segurança Social</td>\n",
       "      <td>59873654</td>\n",
       "      <td>2012-09-03 20:32:04.853000</td>\n",
       "      <td>Facebook</td>\n",
       "      <td>Rio de Janeiro</td>\n",
       "      <td>NaN</td>\n",
       "      <td>UFF</td>\n",
       "    </tr>\n",
       "    <tr>\n",
       "      <th>2</th>\n",
       "      <td>NaN</td>\n",
       "      <td>Enfermagem</td>\n",
       "      <td>3664695</td>\n",
       "      <td>2012-09-10 20:26:30.253000</td>\n",
       "      <td>Facebook</td>\n",
       "      <td>Distrito Federal</td>\n",
       "      <td>NaN</td>\n",
       "      <td>UNB</td>\n",
       "    </tr>\n",
       "    <tr>\n",
       "      <th>3</th>\n",
       "      <td>Resende</td>\n",
       "      <td>Engenharia de Produção Mecânica</td>\n",
       "      <td>15207697</td>\n",
       "      <td>2012-09-05 15:31:08.090000</td>\n",
       "      <td>Facebook</td>\n",
       "      <td>Rio de Janeiro</td>\n",
       "      <td>NaN</td>\n",
       "      <td>UERJ</td>\n",
       "    </tr>\n",
       "    <tr>\n",
       "      <th>4</th>\n",
       "      <td>NaN</td>\n",
       "      <td>Engenharia Elétrica</td>\n",
       "      <td>36988693</td>\n",
       "      <td>2012-10-15 21:34:51.143000</td>\n",
       "      <td>Facebook</td>\n",
       "      <td>NaN</td>\n",
       "      <td>NaN</td>\n",
       "      <td>UFU</td>\n",
       "    </tr>\n",
       "  </tbody>\n",
       "</table>\n",
       "</div>"
      ],
      "text/plain": [
       "             City                              CourseName        Id  \\\n",
       "0             NaN                           Administração  12970655   \n",
       "1  Rio de Janeiro  Direito do Trabalho e Segurança Social  59873654   \n",
       "2             NaN                              Enfermagem   3664695   \n",
       "3         Resende         Engenharia de Produção Mecânica  15207697   \n",
       "4             NaN                     Engenharia Elétrica  36988693   \n",
       "\n",
       "               RegisteredDate SignupSource             State StudentClient  \\\n",
       "0  2012-05-29 15:22:27.490000        Email    Rio de Janeiro           NaN   \n",
       "1  2012-09-03 20:32:04.853000     Facebook    Rio de Janeiro           NaN   \n",
       "2  2012-09-10 20:26:30.253000     Facebook  Distrito Federal           NaN   \n",
       "3  2012-09-05 15:31:08.090000     Facebook    Rio de Janeiro           NaN   \n",
       "4  2012-10-15 21:34:51.143000     Facebook               NaN           NaN   \n",
       "\n",
       "  UniversityName  \n",
       "0        PUC-RIO  \n",
       "1            UFF  \n",
       "2            UNB  \n",
       "3           UERJ  \n",
       "4            UFU  "
      ]
     },
     "execution_count": 4,
     "metadata": {},
     "output_type": "execute_result"
    }
   ],
   "source": [
    "df_students.head()"
   ]
  },
  {
   "cell_type": "code",
   "execution_count": 5,
   "metadata": {
    "collapsed": true
   },
   "outputs": [],
   "source": [
    "# mudando o nome da coluna Id para StudentId\n",
    "# para ficar em linha com as outras bases de dados\n",
    "\n",
    "df_students.rename(columns={'Id':'StudentId'}, inplace=True)"
   ]
  },
  {
   "cell_type": "code",
   "execution_count": 6,
   "metadata": {},
   "outputs": [
    {
     "name": "stdout",
     "output_type": "stream",
     "text": [
      "('shape', (60000, 8))\n",
      "('StudentId unicos', 60000)\n"
     ]
    }
   ],
   "source": [
    "print('shape', df_students.shape)\n",
    "print('StudentId unicos', len(df_students['StudentId'].drop_duplicates().dropna()))"
   ]
  },
  {
   "cell_type": "code",
   "execution_count": 7,
   "metadata": {},
   "outputs": [
    {
     "data": {
      "text/html": [
       "<div>\n",
       "<style>\n",
       "    .dataframe thead tr:only-child th {\n",
       "        text-align: right;\n",
       "    }\n",
       "\n",
       "    .dataframe thead th {\n",
       "        text-align: left;\n",
       "    }\n",
       "\n",
       "    .dataframe tbody tr th {\n",
       "        vertical-align: top;\n",
       "    }\n",
       "</style>\n",
       "<table border=\"1\" class=\"dataframe\">\n",
       "  <thead>\n",
       "    <tr style=\"text-align: right;\">\n",
       "      <th></th>\n",
       "      <th>SignupSource</th>\n",
       "      <th>qnt</th>\n",
       "    </tr>\n",
       "  </thead>\n",
       "  <tbody>\n",
       "    <tr>\n",
       "      <th>0</th>\n",
       "      <td>Email</td>\n",
       "      <td>10294</td>\n",
       "    </tr>\n",
       "    <tr>\n",
       "      <th>2</th>\n",
       "      <td>Google</td>\n",
       "      <td>19555</td>\n",
       "    </tr>\n",
       "    <tr>\n",
       "      <th>1</th>\n",
       "      <td>Facebook</td>\n",
       "      <td>30151</td>\n",
       "    </tr>\n",
       "  </tbody>\n",
       "</table>\n",
       "</div>"
      ],
      "text/plain": [
       "  SignupSource    qnt\n",
       "0        Email  10294\n",
       "2       Google  19555\n",
       "1     Facebook  30151"
      ]
     },
     "execution_count": 7,
     "metadata": {},
     "output_type": "execute_result"
    }
   ],
   "source": [
    "login = df_students.groupby('SignupSource')['StudentId'].count().reset_index()\n",
    "login.columns = ['SignupSource', 'qnt']\n",
    "login.sort_values(by='qnt', ascending=True, inplace=True)\n",
    "login #['StudentId'].sum()"
   ]
  },
  {
   "cell_type": "code",
   "execution_count": 8,
   "metadata": {
    "collapsed": true
   },
   "outputs": [],
   "source": [
    "login['porcentagem'] = (login['qnt'].apply(lambda x:\n",
    "                                          100 * float(x)/login['qnt'].sum()))"
   ]
  },
  {
   "cell_type": "code",
   "execution_count": 9,
   "metadata": {},
   "outputs": [
    {
     "data": {
      "text/html": [
       "<div>\n",
       "<style>\n",
       "    .dataframe thead tr:only-child th {\n",
       "        text-align: right;\n",
       "    }\n",
       "\n",
       "    .dataframe thead th {\n",
       "        text-align: left;\n",
       "    }\n",
       "\n",
       "    .dataframe tbody tr th {\n",
       "        vertical-align: top;\n",
       "    }\n",
       "</style>\n",
       "<table border=\"1\" class=\"dataframe\">\n",
       "  <thead>\n",
       "    <tr style=\"text-align: right;\">\n",
       "      <th></th>\n",
       "      <th>SignupSource</th>\n",
       "      <th>qnt</th>\n",
       "      <th>porcentagem</th>\n",
       "    </tr>\n",
       "  </thead>\n",
       "  <tbody>\n",
       "    <tr>\n",
       "      <th>0</th>\n",
       "      <td>Email</td>\n",
       "      <td>10294</td>\n",
       "      <td>17.156667</td>\n",
       "    </tr>\n",
       "    <tr>\n",
       "      <th>2</th>\n",
       "      <td>Google</td>\n",
       "      <td>19555</td>\n",
       "      <td>32.591667</td>\n",
       "    </tr>\n",
       "    <tr>\n",
       "      <th>1</th>\n",
       "      <td>Facebook</td>\n",
       "      <td>30151</td>\n",
       "      <td>50.251667</td>\n",
       "    </tr>\n",
       "  </tbody>\n",
       "</table>\n",
       "</div>"
      ],
      "text/plain": [
       "  SignupSource    qnt  porcentagem\n",
       "0        Email  10294    17.156667\n",
       "2       Google  19555    32.591667\n",
       "1     Facebook  30151    50.251667"
      ]
     },
     "execution_count": 9,
     "metadata": {},
     "output_type": "execute_result"
    }
   ],
   "source": [
    "login"
   ]
  },
  {
   "cell_type": "code",
   "execution_count": 10,
   "metadata": {},
   "outputs": [
    {
     "data": {
      "image/png": "[encoded data removed]",
      "text/plain": [
       "<matplotlib.figure.Figure at 0x7f11247e9510>"
      ]
     },
     "metadata": {},
     "output_type": "display_data"
    }
   ],
   "source": [
    "login_graph = sns.barplot(x='SignupSource', y='porcentagem', data=login, \n",
    "                         palette='YlOrBr')\n",
    "plt.xlabel('', fontweight='bold', fontsize=15) \n",
    "plt.ylabel('% de logins', fontweight='bold', fontsize=15);\n",
    "login_graph.figure.savefig('logins.png', dpi=100)"
   ]
  },
  {
   "cell_type": "markdown",
   "metadata": {},
   "source": [
    "# Como os usuários preferem visualizar os arquivos? "
   ]
  },
  {
   "cell_type": "code",
   "execution_count": 11,
   "metadata": {
    "collapsed": true
   },
   "outputs": [],
   "source": [
    "# Tipo de visualizações de arquivos\n",
    "with open('fileViews.json', 'r') as f:\n",
    "    data = json.load(f)\n",
    "    \n",
    "df_file = pd.DataFrame(data)"
   ]
  },
  {
   "cell_type": "code",
   "execution_count": 12,
   "metadata": {},
   "outputs": [
    {
     "data": {
      "text/plain": [
       "(3028983, 4)"
      ]
     },
     "execution_count": 12,
     "metadata": {},
     "output_type": "execute_result"
    }
   ],
   "source": [
    "df_file.shape"
   ]
  },
  {
   "cell_type": "code",
   "execution_count": 13,
   "metadata": {},
   "outputs": [
    {
     "name": "stdout",
     "output_type": "stream",
     "text": [
      "<class 'pandas.core.frame.DataFrame'>\n",
      "RangeIndex: 3028983 entries, 0 to 3028982\n",
      "Data columns (total 4 columns):\n",
      "FileName         object\n",
      "StudentId        int64\n",
      "Studentclient    object\n",
      "ViewDate         object\n",
      "dtypes: int64(1), object(3)\n",
      "memory usage: 92.4+ MB\n"
     ]
    }
   ],
   "source": [
    "df_file.info()"
   ]
  },
  {
   "cell_type": "code",
   "execution_count": 14,
   "metadata": {},
   "outputs": [
    {
     "data": {
      "text/html": [
       "<div>\n",
       "<style>\n",
       "    .dataframe thead tr:only-child th {\n",
       "        text-align: right;\n",
       "    }\n",
       "\n",
       "    .dataframe thead th {\n",
       "        text-align: left;\n",
       "    }\n",
       "\n",
       "    .dataframe tbody tr th {\n",
       "        vertical-align: top;\n",
       "    }\n",
       "</style>\n",
       "<table border=\"1\" class=\"dataframe\">\n",
       "  <thead>\n",
       "    <tr style=\"text-align: right;\">\n",
       "      <th></th>\n",
       "      <th>FileName</th>\n",
       "      <th>StudentId</th>\n",
       "      <th>Studentclient</th>\n",
       "      <th>ViewDate</th>\n",
       "    </tr>\n",
       "  </thead>\n",
       "  <tbody>\n",
       "    <tr>\n",
       "      <th>0</th>\n",
       "      <td>Exercicios Resolvidos do Halliday sobre Rotaçã...</td>\n",
       "      <td>12970655</td>\n",
       "      <td>Website</td>\n",
       "      <td>2017-02-23 10:46:03.047000</td>\n",
       "    </tr>\n",
       "    <tr>\n",
       "      <th>1</th>\n",
       "      <td>Exercicios Resolvidos do Halliday sobre Rotaçã...</td>\n",
       "      <td>12970655</td>\n",
       "      <td>Website</td>\n",
       "      <td>2017-02-23 10:46:12.370000</td>\n",
       "    </tr>\n",
       "    <tr>\n",
       "      <th>2</th>\n",
       "      <td>CALCULO I</td>\n",
       "      <td>12970655</td>\n",
       "      <td>Website</td>\n",
       "      <td>2017-05-25 22:39:48.000000</td>\n",
       "    </tr>\n",
       "    <tr>\n",
       "      <th>3</th>\n",
       "      <td>CALCULO I</td>\n",
       "      <td>12970655</td>\n",
       "      <td>Website</td>\n",
       "      <td>2017-05-25 22:40:36.000000</td>\n",
       "    </tr>\n",
       "    <tr>\n",
       "      <th>4</th>\n",
       "      <td>CALCULO I</td>\n",
       "      <td>12970655</td>\n",
       "      <td>Website</td>\n",
       "      <td>2017-05-25 22:43:16.000000</td>\n",
       "    </tr>\n",
       "  </tbody>\n",
       "</table>\n",
       "</div>"
      ],
      "text/plain": [
       "                                            FileName  StudentId Studentclient  \\\n",
       "0  Exercicios Resolvidos do Halliday sobre Rotaçã...   12970655       Website   \n",
       "1  Exercicios Resolvidos do Halliday sobre Rotaçã...   12970655       Website   \n",
       "2                                          CALCULO I   12970655       Website   \n",
       "3                                          CALCULO I   12970655       Website   \n",
       "4                                          CALCULO I   12970655       Website   \n",
       "\n",
       "                     ViewDate  \n",
       "0  2017-02-23 10:46:03.047000  \n",
       "1  2017-02-23 10:46:12.370000  \n",
       "2  2017-05-25 22:39:48.000000  \n",
       "3  2017-05-25 22:40:36.000000  \n",
       "4  2017-05-25 22:43:16.000000  "
      ]
     },
     "execution_count": 14,
     "metadata": {},
     "output_type": "execute_result"
    }
   ],
   "source": [
    "df_file.head()"
   ]
  },
  {
   "cell_type": "code",
   "execution_count": 15,
   "metadata": {
    "collapsed": true
   },
   "outputs": [],
   "source": [
    "df_file.loc[:, 'Studentclient'] = df_file['Studentclient'].astype(str).str[:3] #.value_counts()"
   ]
  },
  {
   "cell_type": "code",
   "execution_count": 16,
   "metadata": {},
   "outputs": [
    {
     "data": {
      "text/html": [
       "<div>\n",
       "<style>\n",
       "    .dataframe thead tr:only-child th {\n",
       "        text-align: right;\n",
       "    }\n",
       "\n",
       "    .dataframe thead th {\n",
       "        text-align: left;\n",
       "    }\n",
       "\n",
       "    .dataframe tbody tr th {\n",
       "        vertical-align: top;\n",
       "    }\n",
       "</style>\n",
       "<table border=\"1\" class=\"dataframe\">\n",
       "  <thead>\n",
       "    <tr style=\"text-align: right;\">\n",
       "      <th></th>\n",
       "      <th>device</th>\n",
       "      <th>qnt</th>\n",
       "    </tr>\n",
       "  </thead>\n",
       "  <tbody>\n",
       "    <tr>\n",
       "      <th>2</th>\n",
       "      <td>iOS</td>\n",
       "      <td>172781</td>\n",
       "    </tr>\n",
       "    <tr>\n",
       "      <th>1</th>\n",
       "      <td>And</td>\n",
       "      <td>863939</td>\n",
       "    </tr>\n",
       "    <tr>\n",
       "      <th>0</th>\n",
       "      <td>Web</td>\n",
       "      <td>1992263</td>\n",
       "    </tr>\n",
       "  </tbody>\n",
       "</table>\n",
       "</div>"
      ],
      "text/plain": [
       "  device      qnt\n",
       "2    iOS   172781\n",
       "1    And   863939\n",
       "0    Web  1992263"
      ]
     },
     "execution_count": 16,
     "metadata": {},
     "output_type": "execute_result"
    }
   ],
   "source": [
    "visualizacao = (df_file['Studentclient'].value_counts()\n",
    "                .rename_axis('device').reset_index(name='qnt'))\n",
    "visualizacao.sort_values(by='qnt', ascending=True, inplace=True)\n",
    "visualizacao  #.sum()"
   ]
  },
  {
   "cell_type": "code",
   "execution_count": 17,
   "metadata": {
    "collapsed": true
   },
   "outputs": [],
   "source": [
    "visualizacao['porcentagem'] = (visualizacao['qnt'].apply(lambda x:\n",
    "                                          100 * float(x)/visualizacao['qnt'].sum()))"
   ]
  },
  {
   "cell_type": "code",
   "execution_count": 18,
   "metadata": {},
   "outputs": [
    {
     "data": {
      "text/html": [
       "<div>\n",
       "<style>\n",
       "    .dataframe thead tr:only-child th {\n",
       "        text-align: right;\n",
       "    }\n",
       "\n",
       "    .dataframe thead th {\n",
       "        text-align: left;\n",
       "    }\n",
       "\n",
       "    .dataframe tbody tr th {\n",
       "        vertical-align: top;\n",
       "    }\n",
       "</style>\n",
       "<table border=\"1\" class=\"dataframe\">\n",
       "  <thead>\n",
       "    <tr style=\"text-align: right;\">\n",
       "      <th></th>\n",
       "      <th>device</th>\n",
       "      <th>qnt</th>\n",
       "      <th>porcentagem</th>\n",
       "    </tr>\n",
       "  </thead>\n",
       "  <tbody>\n",
       "    <tr>\n",
       "      <th>2</th>\n",
       "      <td>iOS</td>\n",
       "      <td>172781</td>\n",
       "      <td>5.704258</td>\n",
       "    </tr>\n",
       "    <tr>\n",
       "      <th>1</th>\n",
       "      <td>And</td>\n",
       "      <td>863939</td>\n",
       "      <td>28.522412</td>\n",
       "    </tr>\n",
       "    <tr>\n",
       "      <th>0</th>\n",
       "      <td>Web</td>\n",
       "      <td>1992263</td>\n",
       "      <td>65.773331</td>\n",
       "    </tr>\n",
       "  </tbody>\n",
       "</table>\n",
       "</div>"
      ],
      "text/plain": [
       "  device      qnt  porcentagem\n",
       "2    iOS   172781     5.704258\n",
       "1    And   863939    28.522412\n",
       "0    Web  1992263    65.773331"
      ]
     },
     "execution_count": 18,
     "metadata": {},
     "output_type": "execute_result"
    }
   ],
   "source": [
    "visualizacao"
   ]
  },
  {
   "cell_type": "code",
   "execution_count": 19,
   "metadata": {},
   "outputs": [
    {
     "data": {
      "image/png": "[encoded data removed]",
      "text/plain": [
       "<matplotlib.figure.Figure at 0x7f10e80a9d50>"
      ]
     },
     "metadata": {},
     "output_type": "display_data"
    }
   ],
   "source": [
    "vis_graph = sns.barplot(x='device', y='porcentagem', data=visualizacao, \n",
    "                         palette='YlOrBr')\n",
    "\n",
    "plt.xlabel('', fontweight='bold', fontsize=15)  \n",
    "plt.ylabel('% de views', fontweight='bold', fontsize=15);\n",
    "vis_graph.figure.savefig('views.png', dpi=100)"
   ]
  },
  {
   "cell_type": "markdown",
   "metadata": {
    "collapsed": true
   },
   "source": [
    "# Sessões"
   ]
  },
  {
   "cell_type": "code",
   "execution_count": 20,
   "metadata": {
    "collapsed": true
   },
   "outputs": [],
   "source": [
    "with open('sessions.json', 'r') as f:\n",
    "    data = json.load(f)\n",
    "    \n",
    "df_sessions = pd.DataFrame(data)"
   ]
  },
  {
   "cell_type": "code",
   "execution_count": 21,
   "metadata": {},
   "outputs": [
    {
     "data": {
      "text/plain": [
       "(1399062, 3)"
      ]
     },
     "execution_count": 21,
     "metadata": {},
     "output_type": "execute_result"
    }
   ],
   "source": [
    "df_sessions.shape"
   ]
  },
  {
   "cell_type": "code",
   "execution_count": 22,
   "metadata": {},
   "outputs": [
    {
     "data": {
      "text/html": [
       "<div>\n",
       "<style>\n",
       "    .dataframe thead tr:only-child th {\n",
       "        text-align: right;\n",
       "    }\n",
       "\n",
       "    .dataframe thead th {\n",
       "        text-align: left;\n",
       "    }\n",
       "\n",
       "    .dataframe tbody tr th {\n",
       "        vertical-align: top;\n",
       "    }\n",
       "</style>\n",
       "<table border=\"1\" class=\"dataframe\">\n",
       "  <thead>\n",
       "    <tr style=\"text-align: right;\">\n",
       "      <th></th>\n",
       "      <th>SessionStartTime</th>\n",
       "      <th>StudentClient</th>\n",
       "      <th>StudentId</th>\n",
       "    </tr>\n",
       "  </thead>\n",
       "  <tbody>\n",
       "    <tr>\n",
       "      <th>0</th>\n",
       "      <td>2017-02-20 14:51:37</td>\n",
       "      <td>Website</td>\n",
       "      <td>12970655</td>\n",
       "    </tr>\n",
       "    <tr>\n",
       "      <th>1</th>\n",
       "      <td>2017-02-22 14:04:34</td>\n",
       "      <td>Website</td>\n",
       "      <td>12970655</td>\n",
       "    </tr>\n",
       "    <tr>\n",
       "      <th>2</th>\n",
       "      <td>2017-02-23 13:46:14</td>\n",
       "      <td>Website</td>\n",
       "      <td>12970655</td>\n",
       "    </tr>\n",
       "    <tr>\n",
       "      <th>3</th>\n",
       "      <td>2017-02-23 14:52:24</td>\n",
       "      <td>Website</td>\n",
       "      <td>12970655</td>\n",
       "    </tr>\n",
       "    <tr>\n",
       "      <th>4</th>\n",
       "      <td>2017-03-03 20:47:21</td>\n",
       "      <td>Website</td>\n",
       "      <td>12970655</td>\n",
       "    </tr>\n",
       "  </tbody>\n",
       "</table>\n",
       "</div>"
      ],
      "text/plain": [
       "      SessionStartTime StudentClient  StudentId\n",
       "0  2017-02-20 14:51:37       Website   12970655\n",
       "1  2017-02-22 14:04:34       Website   12970655\n",
       "2  2017-02-23 13:46:14       Website   12970655\n",
       "3  2017-02-23 14:52:24       Website   12970655\n",
       "4  2017-03-03 20:47:21       Website   12970655"
      ]
     },
     "execution_count": 22,
     "metadata": {},
     "output_type": "execute_result"
    }
   ],
   "source": [
    "df_sessions.head()"
   ]
  },
  {
   "cell_type": "code",
   "execution_count": 23,
   "metadata": {},
   "outputs": [
    {
     "data": {
      "text/plain": [
       "SessionStartTime    object\n",
       "StudentClient       object\n",
       "StudentId            int64\n",
       "dtype: object"
      ]
     },
     "execution_count": 23,
     "metadata": {},
     "output_type": "execute_result"
    }
   ],
   "source": [
    "df_sessions.dtypes"
   ]
  },
  {
   "cell_type": "code",
   "execution_count": 24,
   "metadata": {
    "collapsed": true
   },
   "outputs": [],
   "source": [
    "df_sessions.loc[:, 'SessionStartTime'] = pd.to_datetime(df_sessions['SessionStartTime'])\n",
    "df_sessions['date'] = df_sessions['SessionStartTime'].dt.normalize()\n",
    "df_sessions['weekdayname'] = df_sessions['date'].dt.weekday_name"
   ]
  },
  {
   "cell_type": "code",
   "execution_count": 25,
   "metadata": {},
   "outputs": [
    {
     "data": {
      "text/html": [
       "<div>\n",
       "<style>\n",
       "    .dataframe thead tr:only-child th {\n",
       "        text-align: right;\n",
       "    }\n",
       "\n",
       "    .dataframe thead th {\n",
       "        text-align: left;\n",
       "    }\n",
       "\n",
       "    .dataframe tbody tr th {\n",
       "        vertical-align: top;\n",
       "    }\n",
       "</style>\n",
       "<table border=\"1\" class=\"dataframe\">\n",
       "  <thead>\n",
       "    <tr style=\"text-align: right;\">\n",
       "      <th></th>\n",
       "      <th>SessionStartTime</th>\n",
       "      <th>StudentClient</th>\n",
       "      <th>StudentId</th>\n",
       "      <th>date</th>\n",
       "      <th>weekdayname</th>\n",
       "    </tr>\n",
       "  </thead>\n",
       "  <tbody>\n",
       "    <tr>\n",
       "      <th>0</th>\n",
       "      <td>2017-02-20 14:51:37</td>\n",
       "      <td>Website</td>\n",
       "      <td>12970655</td>\n",
       "      <td>2017-02-20</td>\n",
       "      <td>Monday</td>\n",
       "    </tr>\n",
       "    <tr>\n",
       "      <th>1</th>\n",
       "      <td>2017-02-22 14:04:34</td>\n",
       "      <td>Website</td>\n",
       "      <td>12970655</td>\n",
       "      <td>2017-02-22</td>\n",
       "      <td>Wednesday</td>\n",
       "    </tr>\n",
       "    <tr>\n",
       "      <th>2</th>\n",
       "      <td>2017-02-23 13:46:14</td>\n",
       "      <td>Website</td>\n",
       "      <td>12970655</td>\n",
       "      <td>2017-02-23</td>\n",
       "      <td>Thursday</td>\n",
       "    </tr>\n",
       "    <tr>\n",
       "      <th>3</th>\n",
       "      <td>2017-02-23 14:52:24</td>\n",
       "      <td>Website</td>\n",
       "      <td>12970655</td>\n",
       "      <td>2017-02-23</td>\n",
       "      <td>Thursday</td>\n",
       "    </tr>\n",
       "    <tr>\n",
       "      <th>4</th>\n",
       "      <td>2017-03-03 20:47:21</td>\n",
       "      <td>Website</td>\n",
       "      <td>12970655</td>\n",
       "      <td>2017-03-03</td>\n",
       "      <td>Friday</td>\n",
       "    </tr>\n",
       "  </tbody>\n",
       "</table>\n",
       "</div>"
      ],
      "text/plain": [
       "     SessionStartTime StudentClient  StudentId       date weekdayname\n",
       "0 2017-02-20 14:51:37       Website   12970655 2017-02-20      Monday\n",
       "1 2017-02-22 14:04:34       Website   12970655 2017-02-22   Wednesday\n",
       "2 2017-02-23 13:46:14       Website   12970655 2017-02-23    Thursday\n",
       "3 2017-02-23 14:52:24       Website   12970655 2017-02-23    Thursday\n",
       "4 2017-03-03 20:47:21       Website   12970655 2017-03-03      Friday"
      ]
     },
     "execution_count": 25,
     "metadata": {},
     "output_type": "execute_result"
    }
   ],
   "source": [
    "df_sessions.head()"
   ]
  },
  {
   "cell_type": "code",
   "execution_count": 26,
   "metadata": {},
   "outputs": [
    {
     "data": {
      "text/html": [
       "<div>\n",
       "<style>\n",
       "    .dataframe thead tr:only-child th {\n",
       "        text-align: right;\n",
       "    }\n",
       "\n",
       "    .dataframe thead th {\n",
       "        text-align: left;\n",
       "    }\n",
       "\n",
       "    .dataframe tbody tr th {\n",
       "        vertical-align: top;\n",
       "    }\n",
       "</style>\n",
       "<table border=\"1\" class=\"dataframe\">\n",
       "  <thead>\n",
       "    <tr style=\"text-align: right;\">\n",
       "      <th></th>\n",
       "      <th>data</th>\n",
       "      <th>qnt</th>\n",
       "    </tr>\n",
       "  </thead>\n",
       "  <tbody>\n",
       "    <tr>\n",
       "      <th>482</th>\n",
       "      <td>2018-06-04</td>\n",
       "      <td>4344</td>\n",
       "    </tr>\n",
       "    <tr>\n",
       "      <th>483</th>\n",
       "      <td>2018-06-05</td>\n",
       "      <td>4996</td>\n",
       "    </tr>\n",
       "    <tr>\n",
       "      <th>484</th>\n",
       "      <td>2018-06-06</td>\n",
       "      <td>4663</td>\n",
       "    </tr>\n",
       "    <tr>\n",
       "      <th>485</th>\n",
       "      <td>2018-06-07</td>\n",
       "      <td>4462</td>\n",
       "    </tr>\n",
       "    <tr>\n",
       "      <th>486</th>\n",
       "      <td>2018-06-08</td>\n",
       "      <td>831</td>\n",
       "    </tr>\n",
       "  </tbody>\n",
       "</table>\n",
       "</div>"
      ],
      "text/plain": [
       "          data   qnt\n",
       "482 2018-06-04  4344\n",
       "483 2018-06-05  4996\n",
       "484 2018-06-06  4663\n",
       "485 2018-06-07  4462\n",
       "486 2018-06-08   831"
      ]
     },
     "execution_count": 26,
     "metadata": {},
     "output_type": "execute_result"
    }
   ],
   "source": [
    "# somando as sessoes por dia\n",
    "sessoes_por_dia = df_sessions.groupby('date')['StudentId'].count().reset_index()\n",
    "sessoes_por_dia.columns = ['data', 'qnt']\n",
    "sessoes_por_dia.sort_values(by='data', inplace=True)\n",
    "sessoes_por_dia.tail()"
   ]
  },
  {
   "cell_type": "code",
   "execution_count": 27,
   "metadata": {},
   "outputs": [
    {
     "data": {
      "text/html": [
       "<div>\n",
       "<style>\n",
       "    .dataframe thead tr:only-child th {\n",
       "        text-align: right;\n",
       "    }\n",
       "\n",
       "    .dataframe thead th {\n",
       "        text-align: left;\n",
       "    }\n",
       "\n",
       "    .dataframe tbody tr th {\n",
       "        vertical-align: top;\n",
       "    }\n",
       "</style>\n",
       "<table border=\"1\" class=\"dataframe\">\n",
       "  <thead>\n",
       "    <tr style=\"text-align: right;\">\n",
       "      <th></th>\n",
       "      <th>data</th>\n",
       "      <th>qnt</th>\n",
       "    </tr>\n",
       "  </thead>\n",
       "  <tbody>\n",
       "    <tr>\n",
       "      <th>288</th>\n",
       "      <td>2017-11-22</td>\n",
       "      <td>27657</td>\n",
       "    </tr>\n",
       "  </tbody>\n",
       "</table>\n",
       "</div>"
      ],
      "text/plain": [
       "          data    qnt\n",
       "288 2017-11-22  27657"
      ]
     },
     "execution_count": 27,
     "metadata": {},
     "output_type": "execute_result"
    }
   ],
   "source": [
    "sessoes_por_dia[sessoes_por_dia['qnt'] == 27657] #.max()"
   ]
  },
  {
   "cell_type": "code",
   "execution_count": 28,
   "metadata": {},
   "outputs": [
    {
     "data": {
      "text/plain": [
       "qnt    int64\n",
       "dtype: object"
      ]
     },
     "execution_count": 28,
     "metadata": {},
     "output_type": "execute_result"
    }
   ],
   "source": [
    "sessoes_por_dia.set_index('data', inplace=True)\n",
    "sessoes_por_dia.dtypes"
   ]
  },
  {
   "cell_type": "code",
   "execution_count": 29,
   "metadata": {},
   "outputs": [
    {
     "data": {
      "image/png": "[encoded data removed]",
      "text/plain": [
       "<matplotlib.figure.Figure at 0x7f10e818fd90>"
      ]
     },
     "metadata": {},
     "output_type": "display_data"
    }
   ],
   "source": [
    "sessoes_por_dia.plot(color='orange');\n",
    "plt.xlabel('', fontweight='bold', fontsize=15)  \n",
    "plt.ylabel('sessions', fontweight='bold', fontsize=15);\n",
    "plt.savefig('time_series.png', dpi=100)"
   ]
  },
  {
   "cell_type": "code",
   "execution_count": 30,
   "metadata": {
    "collapsed": true
   },
   "outputs": [],
   "source": [
    "# olhando por dia da semana"
   ]
  },
  {
   "cell_type": "code",
   "execution_count": 31,
   "metadata": {},
   "outputs": [
    {
     "data": {
      "text/html": [
       "<div>\n",
       "<style>\n",
       "    .dataframe thead tr:only-child th {\n",
       "        text-align: right;\n",
       "    }\n",
       "\n",
       "    .dataframe thead th {\n",
       "        text-align: left;\n",
       "    }\n",
       "\n",
       "    .dataframe tbody tr th {\n",
       "        vertical-align: top;\n",
       "    }\n",
       "</style>\n",
       "<table border=\"1\" class=\"dataframe\">\n",
       "  <thead>\n",
       "    <tr style=\"text-align: right;\">\n",
       "      <th></th>\n",
       "      <th>dia_semana</th>\n",
       "      <th>qnt</th>\n",
       "    </tr>\n",
       "  </thead>\n",
       "  <tbody>\n",
       "    <tr>\n",
       "      <th>0</th>\n",
       "      <td>Friday</td>\n",
       "      <td>175435</td>\n",
       "    </tr>\n",
       "    <tr>\n",
       "      <th>4</th>\n",
       "      <td>Thursday</td>\n",
       "      <td>212567</td>\n",
       "    </tr>\n",
       "    <tr>\n",
       "      <th>1</th>\n",
       "      <td>Monday</td>\n",
       "      <td>231674</td>\n",
       "    </tr>\n",
       "    <tr>\n",
       "      <th>5</th>\n",
       "      <td>Tuesday</td>\n",
       "      <td>241946</td>\n",
       "    </tr>\n",
       "    <tr>\n",
       "      <th>6</th>\n",
       "      <td>Wednesday</td>\n",
       "      <td>243044</td>\n",
       "    </tr>\n",
       "  </tbody>\n",
       "</table>\n",
       "</div>"
      ],
      "text/plain": [
       "  dia_semana     qnt\n",
       "0     Friday  175435\n",
       "4   Thursday  212567\n",
       "1     Monday  231674\n",
       "5    Tuesday  241946\n",
       "6  Wednesday  243044"
      ]
     },
     "execution_count": 31,
     "metadata": {},
     "output_type": "execute_result"
    }
   ],
   "source": [
    "# somando as sessoes por dia da semana\n",
    "sessoes_por_weekdia = df_sessions.groupby('weekdayname')['StudentId'].count().reset_index()\n",
    "sessoes_por_weekdia.columns = ['dia_semana', 'qnt']\n",
    "sessoes_por_weekdia.sort_values(by='qnt', inplace=True)\n",
    "sessoes_por_weekdia.tail()"
   ]
  },
  {
   "cell_type": "code",
   "execution_count": 32,
   "metadata": {
    "collapsed": true
   },
   "outputs": [],
   "source": [
    "sessoes_por_weekdia['porcentagem'] = (sessoes_por_weekdia['qnt'].apply(lambda x:\n",
    "                                          100 * float(x)/sessoes_por_weekdia['qnt'].sum()))"
   ]
  },
  {
   "cell_type": "code",
   "execution_count": 33,
   "metadata": {},
   "outputs": [
    {
     "data": {
      "text/html": [
       "<div>\n",
       "<style>\n",
       "    .dataframe thead tr:only-child th {\n",
       "        text-align: right;\n",
       "    }\n",
       "\n",
       "    .dataframe thead th {\n",
       "        text-align: left;\n",
       "    }\n",
       "\n",
       "    .dataframe tbody tr th {\n",
       "        vertical-align: top;\n",
       "    }\n",
       "</style>\n",
       "<table border=\"1\" class=\"dataframe\">\n",
       "  <thead>\n",
       "    <tr style=\"text-align: right;\">\n",
       "      <th></th>\n",
       "      <th>dia_semana</th>\n",
       "      <th>qnt</th>\n",
       "      <th>porcentagem</th>\n",
       "    </tr>\n",
       "  </thead>\n",
       "  <tbody>\n",
       "    <tr>\n",
       "      <th>2</th>\n",
       "      <td>Saturday</td>\n",
       "      <td>134113</td>\n",
       "      <td>9.585923</td>\n",
       "    </tr>\n",
       "    <tr>\n",
       "      <th>3</th>\n",
       "      <td>Sunday</td>\n",
       "      <td>160283</td>\n",
       "      <td>11.456462</td>\n",
       "    </tr>\n",
       "    <tr>\n",
       "      <th>0</th>\n",
       "      <td>Friday</td>\n",
       "      <td>175435</td>\n",
       "      <td>12.539473</td>\n",
       "    </tr>\n",
       "    <tr>\n",
       "      <th>4</th>\n",
       "      <td>Thursday</td>\n",
       "      <td>212567</td>\n",
       "      <td>15.193537</td>\n",
       "    </tr>\n",
       "    <tr>\n",
       "      <th>1</th>\n",
       "      <td>Monday</td>\n",
       "      <td>231674</td>\n",
       "      <td>16.559238</td>\n",
       "    </tr>\n",
       "    <tr>\n",
       "      <th>5</th>\n",
       "      <td>Tuesday</td>\n",
       "      <td>241946</td>\n",
       "      <td>17.293444</td>\n",
       "    </tr>\n",
       "    <tr>\n",
       "      <th>6</th>\n",
       "      <td>Wednesday</td>\n",
       "      <td>243044</td>\n",
       "      <td>17.371925</td>\n",
       "    </tr>\n",
       "  </tbody>\n",
       "</table>\n",
       "</div>"
      ],
      "text/plain": [
       "  dia_semana     qnt  porcentagem\n",
       "2   Saturday  134113     9.585923\n",
       "3     Sunday  160283    11.456462\n",
       "0     Friday  175435    12.539473\n",
       "4   Thursday  212567    15.193537\n",
       "1     Monday  231674    16.559238\n",
       "5    Tuesday  241946    17.293444\n",
       "6  Wednesday  243044    17.371925"
      ]
     },
     "execution_count": 33,
     "metadata": {},
     "output_type": "execute_result"
    }
   ],
   "source": [
    "sessoes_por_weekdia"
   ]
  },
  {
   "cell_type": "code",
   "execution_count": 34,
   "metadata": {},
   "outputs": [
    {
     "data": {
      "image/png": "[encoded data removed]",
      "text/plain": [
       "<matplotlib.figure.Figure at 0x7f10e4ca1b50>"
      ]
     },
     "metadata": {},
     "output_type": "display_data"
    }
   ],
   "source": [
    "weekday_graph = sns.barplot(x='dia_semana', y='porcentagem', data=sessoes_por_weekdia, \n",
    "                         palette='YlOrBr')\n",
    "\n",
    "plt.xlabel('', fontweight='bold', fontsize=15)  \n",
    "plt.ylabel('% de sessions', fontweight='bold', fontsize=15);\n",
    "weekday_graph.figure.savefig('weekday_graph.png', dpi=100)"
   ]
  },
  {
   "cell_type": "markdown",
   "metadata": {},
   "source": [
    "# Olhando informações dos estudantes"
   ]
  },
  {
   "cell_type": "markdown",
   "metadata": {},
   "source": [
    "Universidades e Curso mais representativos na base de estudantes (por enquanto ainda sem distinção de pagantes, não pagantes e churn)"
   ]
  },
  {
   "cell_type": "code",
   "execution_count": 35,
   "metadata": {},
   "outputs": [
    {
     "data": {
      "text/html": [
       "<div>\n",
       "<style>\n",
       "    .dataframe thead tr:only-child th {\n",
       "        text-align: right;\n",
       "    }\n",
       "\n",
       "    .dataframe thead th {\n",
       "        text-align: left;\n",
       "    }\n",
       "\n",
       "    .dataframe tbody tr th {\n",
       "        vertical-align: top;\n",
       "    }\n",
       "</style>\n",
       "<table border=\"1\" class=\"dataframe\">\n",
       "  <thead>\n",
       "    <tr style=\"text-align: right;\">\n",
       "      <th></th>\n",
       "      <th>City</th>\n",
       "      <th>CourseName</th>\n",
       "      <th>StudentId</th>\n",
       "      <th>RegisteredDate</th>\n",
       "      <th>SignupSource</th>\n",
       "      <th>State</th>\n",
       "      <th>StudentClient</th>\n",
       "      <th>UniversityName</th>\n",
       "    </tr>\n",
       "  </thead>\n",
       "  <tbody>\n",
       "    <tr>\n",
       "      <th>0</th>\n",
       "      <td>NaN</td>\n",
       "      <td>Administração</td>\n",
       "      <td>12970655</td>\n",
       "      <td>2012-05-29 15:22:27.490000</td>\n",
       "      <td>Email</td>\n",
       "      <td>Rio de Janeiro</td>\n",
       "      <td>NaN</td>\n",
       "      <td>PUC-RIO</td>\n",
       "    </tr>\n",
       "    <tr>\n",
       "      <th>1</th>\n",
       "      <td>Rio de Janeiro</td>\n",
       "      <td>Direito do Trabalho e Segurança Social</td>\n",
       "      <td>59873654</td>\n",
       "      <td>2012-09-03 20:32:04.853000</td>\n",
       "      <td>Facebook</td>\n",
       "      <td>Rio de Janeiro</td>\n",
       "      <td>NaN</td>\n",
       "      <td>UFF</td>\n",
       "    </tr>\n",
       "    <tr>\n",
       "      <th>2</th>\n",
       "      <td>NaN</td>\n",
       "      <td>Enfermagem</td>\n",
       "      <td>3664695</td>\n",
       "      <td>2012-09-10 20:26:30.253000</td>\n",
       "      <td>Facebook</td>\n",
       "      <td>Distrito Federal</td>\n",
       "      <td>NaN</td>\n",
       "      <td>UNB</td>\n",
       "    </tr>\n",
       "    <tr>\n",
       "      <th>3</th>\n",
       "      <td>Resende</td>\n",
       "      <td>Engenharia de Produção Mecânica</td>\n",
       "      <td>15207697</td>\n",
       "      <td>2012-09-05 15:31:08.090000</td>\n",
       "      <td>Facebook</td>\n",
       "      <td>Rio de Janeiro</td>\n",
       "      <td>NaN</td>\n",
       "      <td>UERJ</td>\n",
       "    </tr>\n",
       "    <tr>\n",
       "      <th>4</th>\n",
       "      <td>NaN</td>\n",
       "      <td>Engenharia Elétrica</td>\n",
       "      <td>36988693</td>\n",
       "      <td>2012-10-15 21:34:51.143000</td>\n",
       "      <td>Facebook</td>\n",
       "      <td>NaN</td>\n",
       "      <td>NaN</td>\n",
       "      <td>UFU</td>\n",
       "    </tr>\n",
       "  </tbody>\n",
       "</table>\n",
       "</div>"
      ],
      "text/plain": [
       "             City                              CourseName  StudentId  \\\n",
       "0             NaN                           Administração   12970655   \n",
       "1  Rio de Janeiro  Direito do Trabalho e Segurança Social   59873654   \n",
       "2             NaN                              Enfermagem    3664695   \n",
       "3         Resende         Engenharia de Produção Mecânica   15207697   \n",
       "4             NaN                     Engenharia Elétrica   36988693   \n",
       "\n",
       "               RegisteredDate SignupSource             State StudentClient  \\\n",
       "0  2012-05-29 15:22:27.490000        Email    Rio de Janeiro           NaN   \n",
       "1  2012-09-03 20:32:04.853000     Facebook    Rio de Janeiro           NaN   \n",
       "2  2012-09-10 20:26:30.253000     Facebook  Distrito Federal           NaN   \n",
       "3  2012-09-05 15:31:08.090000     Facebook    Rio de Janeiro           NaN   \n",
       "4  2012-10-15 21:34:51.143000     Facebook               NaN           NaN   \n",
       "\n",
       "  UniversityName  \n",
       "0        PUC-RIO  \n",
       "1            UFF  \n",
       "2            UNB  \n",
       "3           UERJ  \n",
       "4            UFU  "
      ]
     },
     "execution_count": 35,
     "metadata": {},
     "output_type": "execute_result"
    }
   ],
   "source": [
    "df_students.head()"
   ]
  },
  {
   "cell_type": "code",
   "execution_count": 36,
   "metadata": {},
   "outputs": [
    {
     "data": {
      "text/html": [
       "<div>\n",
       "<style>\n",
       "    .dataframe thead tr:only-child th {\n",
       "        text-align: right;\n",
       "    }\n",
       "\n",
       "    .dataframe thead th {\n",
       "        text-align: left;\n",
       "    }\n",
       "\n",
       "    .dataframe tbody tr th {\n",
       "        vertical-align: top;\n",
       "    }\n",
       "</style>\n",
       "<table border=\"1\" class=\"dataframe\">\n",
       "  <thead>\n",
       "    <tr style=\"text-align: right;\">\n",
       "      <th></th>\n",
       "      <th>University</th>\n",
       "      <th>qnt</th>\n",
       "    </tr>\n",
       "  </thead>\n",
       "  <tbody>\n",
       "    <tr>\n",
       "      <th>178</th>\n",
       "      <td>ESTÁCIO</td>\n",
       "      <td>8919</td>\n",
       "    </tr>\n",
       "    <tr>\n",
       "      <th>1513</th>\n",
       "      <td>UNIP</td>\n",
       "      <td>4392</td>\n",
       "    </tr>\n",
       "    <tr>\n",
       "      <th>1590</th>\n",
       "      <td>UNOPAR</td>\n",
       "      <td>1784</td>\n",
       "    </tr>\n",
       "    <tr>\n",
       "      <th>1511</th>\n",
       "      <td>UNINTER</td>\n",
       "      <td>1780</td>\n",
       "    </tr>\n",
       "    <tr>\n",
       "      <th>179</th>\n",
       "      <td>ESTÁCIO EAD</td>\n",
       "      <td>1446</td>\n",
       "    </tr>\n",
       "  </tbody>\n",
       "</table>\n",
       "</div>"
      ],
      "text/plain": [
       "       University   qnt\n",
       "178       ESTÁCIO  8919\n",
       "1513         UNIP  4392\n",
       "1590       UNOPAR  1784\n",
       "1511      UNINTER  1780\n",
       "179   ESTÁCIO EAD  1446"
      ]
     },
     "execution_count": 36,
     "metadata": {},
     "output_type": "execute_result"
    }
   ],
   "source": [
    "# Universidade\n",
    "top_uni = df_students.groupby('UniversityName')['StudentId'].count().reset_index()\n",
    "top_uni.columns = ['University', 'qnt']\n",
    "top_uni.sort_values(by='qnt', ascending=False, inplace=True)\n",
    "top_uni.head()"
   ]
  },
  {
   "cell_type": "code",
   "execution_count": 37,
   "metadata": {
    "collapsed": true
   },
   "outputs": [],
   "source": [
    "top_uni['porcentagem'] = (top_uni['qnt'].apply(lambda x:\n",
    "                                          100 * float(x)/top_uni['qnt'].sum()))"
   ]
  },
  {
   "cell_type": "code",
   "execution_count": 38,
   "metadata": {},
   "outputs": [
    {
     "data": {
      "text/html": [
       "<div>\n",
       "<style>\n",
       "    .dataframe thead tr:only-child th {\n",
       "        text-align: right;\n",
       "    }\n",
       "\n",
       "    .dataframe thead th {\n",
       "        text-align: left;\n",
       "    }\n",
       "\n",
       "    .dataframe tbody tr th {\n",
       "        vertical-align: top;\n",
       "    }\n",
       "</style>\n",
       "<table border=\"1\" class=\"dataframe\">\n",
       "  <thead>\n",
       "    <tr style=\"text-align: right;\">\n",
       "      <th></th>\n",
       "      <th>University</th>\n",
       "      <th>qnt</th>\n",
       "      <th>porcentagem</th>\n",
       "    </tr>\n",
       "  </thead>\n",
       "  <tbody>\n",
       "    <tr>\n",
       "      <th>178</th>\n",
       "      <td>ESTÁCIO</td>\n",
       "      <td>8919</td>\n",
       "      <td>14.865000</td>\n",
       "    </tr>\n",
       "    <tr>\n",
       "      <th>1513</th>\n",
       "      <td>UNIP</td>\n",
       "      <td>4392</td>\n",
       "      <td>7.320000</td>\n",
       "    </tr>\n",
       "    <tr>\n",
       "      <th>1590</th>\n",
       "      <td>UNOPAR</td>\n",
       "      <td>1784</td>\n",
       "      <td>2.973333</td>\n",
       "    </tr>\n",
       "    <tr>\n",
       "      <th>1511</th>\n",
       "      <td>UNINTER</td>\n",
       "      <td>1780</td>\n",
       "      <td>2.966667</td>\n",
       "    </tr>\n",
       "    <tr>\n",
       "      <th>179</th>\n",
       "      <td>ESTÁCIO EAD</td>\n",
       "      <td>1446</td>\n",
       "      <td>2.410000</td>\n",
       "    </tr>\n",
       "    <tr>\n",
       "      <th>1414</th>\n",
       "      <td>UNIDERP - ANHANGUERA</td>\n",
       "      <td>671</td>\n",
       "      <td>1.118333</td>\n",
       "    </tr>\n",
       "    <tr>\n",
       "      <th>33</th>\n",
       "      <td>Anhanguera</td>\n",
       "      <td>660</td>\n",
       "      <td>1.100000</td>\n",
       "    </tr>\n",
       "    <tr>\n",
       "      <th>1615</th>\n",
       "      <td>USP-SP</td>\n",
       "      <td>601</td>\n",
       "      <td>1.001667</td>\n",
       "    </tr>\n",
       "    <tr>\n",
       "      <th>1173</th>\n",
       "      <td>PITÁGORAS</td>\n",
       "      <td>556</td>\n",
       "      <td>0.926667</td>\n",
       "    </tr>\n",
       "    <tr>\n",
       "      <th>1315</th>\n",
       "      <td>UFRJ</td>\n",
       "      <td>530</td>\n",
       "      <td>0.883333</td>\n",
       "    </tr>\n",
       "  </tbody>\n",
       "</table>\n",
       "</div>"
      ],
      "text/plain": [
       "                University   qnt  porcentagem\n",
       "178                ESTÁCIO  8919    14.865000\n",
       "1513                  UNIP  4392     7.320000\n",
       "1590                UNOPAR  1784     2.973333\n",
       "1511               UNINTER  1780     2.966667\n",
       "179            ESTÁCIO EAD  1446     2.410000\n",
       "1414  UNIDERP - ANHANGUERA   671     1.118333\n",
       "33              Anhanguera   660     1.100000\n",
       "1615                USP-SP   601     1.001667\n",
       "1173             PITÁGORAS   556     0.926667\n",
       "1315                  UFRJ   530     0.883333"
      ]
     },
     "execution_count": 38,
     "metadata": {},
     "output_type": "execute_result"
    }
   ],
   "source": [
    "# em termos do StudentId\n",
    "top_uni5 = top_uni.head(10)\n",
    "top_uni5"
   ]
  },
  {
   "cell_type": "code",
   "execution_count": 39,
   "metadata": {},
   "outputs": [
    {
     "data": {
      "image/png": "[encoded data removed]",
      "text/plain": [
       "<matplotlib.figure.Figure at 0x7f10e82bfb50>"
      ]
     },
     "metadata": {},
     "output_type": "display_data"
    }
   ],
   "source": [
    "uni_graph = sns.barplot(x='University', y='porcentagem', data=top_uni5, \n",
    "                         palette='YlOrBr_r')\n",
    "\n",
    "for tick in uni_graph.get_xticklabels():\n",
    "    tick.set_rotation(90)\n",
    "\n",
    "plt.xlabel('', fontweight='bold', fontsize=15)  # Maybe add plan and type\n",
    "plt.ylabel('% de students', fontweight='bold', fontsize=15);\n",
    "plt.tight_layout()\n",
    "uni_graph.figure.savefig('uni_graph.png', dpi=100)"
   ]
  },
  {
   "cell_type": "code",
   "execution_count": 40,
   "metadata": {},
   "outputs": [
    {
     "data": {
      "text/html": [
       "<div>\n",
       "<style>\n",
       "    .dataframe thead tr:only-child th {\n",
       "        text-align: right;\n",
       "    }\n",
       "\n",
       "    .dataframe thead th {\n",
       "        text-align: left;\n",
       "    }\n",
       "\n",
       "    .dataframe tbody tr th {\n",
       "        vertical-align: top;\n",
       "    }\n",
       "</style>\n",
       "<table border=\"1\" class=\"dataframe\">\n",
       "  <thead>\n",
       "    <tr style=\"text-align: right;\">\n",
       "      <th></th>\n",
       "      <th>CourseName</th>\n",
       "      <th>qnt</th>\n",
       "    </tr>\n",
       "  </thead>\n",
       "  <tbody>\n",
       "    <tr>\n",
       "      <th>100</th>\n",
       "      <td>Direito</td>\n",
       "      <td>9862</td>\n",
       "    </tr>\n",
       "    <tr>\n",
       "      <th>0</th>\n",
       "      <td>Administração</td>\n",
       "      <td>4099</td>\n",
       "    </tr>\n",
       "    <tr>\n",
       "      <th>139</th>\n",
       "      <td>Engenharia Civil</td>\n",
       "      <td>3585</td>\n",
       "    </tr>\n",
       "    <tr>\n",
       "      <th>85</th>\n",
       "      <td>Contabilidade / Ciências Contábeis</td>\n",
       "      <td>2744</td>\n",
       "    </tr>\n",
       "    <tr>\n",
       "      <th>363</th>\n",
       "      <td>Pedagogia</td>\n",
       "      <td>2627</td>\n",
       "    </tr>\n",
       "  </tbody>\n",
       "</table>\n",
       "</div>"
      ],
      "text/plain": [
       "                             CourseName   qnt\n",
       "100                             Direito  9862\n",
       "0                         Administração  4099\n",
       "139                    Engenharia Civil  3585\n",
       "85   Contabilidade / Ciências Contábeis  2744\n",
       "363                           Pedagogia  2627"
      ]
     },
     "execution_count": 40,
     "metadata": {},
     "output_type": "execute_result"
    }
   ],
   "source": [
    "# Cursos\n",
    "top_cursos = df_students.groupby('CourseName')['StudentId'].count().reset_index()\n",
    "top_cursos.columns = ['CourseName', 'qnt']\n",
    "top_cursos.sort_values(by='qnt', ascending=False, inplace=True)\n",
    "top_cursos.head()"
   ]
  },
  {
   "cell_type": "code",
   "execution_count": 41,
   "metadata": {
    "collapsed": true
   },
   "outputs": [],
   "source": [
    "top_cursos['porcentagem'] = (top_cursos['qnt'].apply(lambda x:\n",
    "                                          100 * float(x)/top_cursos['qnt'].sum()))"
   ]
  },
  {
   "cell_type": "code",
   "execution_count": 42,
   "metadata": {},
   "outputs": [
    {
     "data": {
      "text/html": [
       "<div>\n",
       "<style>\n",
       "    .dataframe thead tr:only-child th {\n",
       "        text-align: right;\n",
       "    }\n",
       "\n",
       "    .dataframe thead th {\n",
       "        text-align: left;\n",
       "    }\n",
       "\n",
       "    .dataframe tbody tr th {\n",
       "        vertical-align: top;\n",
       "    }\n",
       "</style>\n",
       "<table border=\"1\" class=\"dataframe\">\n",
       "  <thead>\n",
       "    <tr style=\"text-align: right;\">\n",
       "      <th></th>\n",
       "      <th>CourseName</th>\n",
       "      <th>qnt</th>\n",
       "      <th>porcentagem</th>\n",
       "    </tr>\n",
       "  </thead>\n",
       "  <tbody>\n",
       "    <tr>\n",
       "      <th>100</th>\n",
       "      <td>Direito</td>\n",
       "      <td>9862</td>\n",
       "      <td>16.436667</td>\n",
       "    </tr>\n",
       "    <tr>\n",
       "      <th>0</th>\n",
       "      <td>Administração</td>\n",
       "      <td>4099</td>\n",
       "      <td>6.831667</td>\n",
       "    </tr>\n",
       "    <tr>\n",
       "      <th>139</th>\n",
       "      <td>Engenharia Civil</td>\n",
       "      <td>3585</td>\n",
       "      <td>5.975000</td>\n",
       "    </tr>\n",
       "    <tr>\n",
       "      <th>85</th>\n",
       "      <td>Contabilidade / Ciências Contábeis</td>\n",
       "      <td>2744</td>\n",
       "      <td>4.573333</td>\n",
       "    </tr>\n",
       "    <tr>\n",
       "      <th>363</th>\n",
       "      <td>Pedagogia</td>\n",
       "      <td>2627</td>\n",
       "      <td>4.378333</td>\n",
       "    </tr>\n",
       "    <tr>\n",
       "      <th>388</th>\n",
       "      <td>Psicologia</td>\n",
       "      <td>2155</td>\n",
       "      <td>3.591667</td>\n",
       "    </tr>\n",
       "    <tr>\n",
       "      <th>122</th>\n",
       "      <td>Enfermagem</td>\n",
       "      <td>2054</td>\n",
       "      <td>3.423333</td>\n",
       "    </tr>\n",
       "    <tr>\n",
       "      <th>340</th>\n",
       "      <td>Medicina</td>\n",
       "      <td>1656</td>\n",
       "      <td>2.760000</td>\n",
       "    </tr>\n",
       "    <tr>\n",
       "      <th>206</th>\n",
       "      <td>Fisioterapia</td>\n",
       "      <td>1464</td>\n",
       "      <td>2.440000</td>\n",
       "    </tr>\n",
       "    <tr>\n",
       "      <th>155</th>\n",
       "      <td>Engenharia Mecânica</td>\n",
       "      <td>1451</td>\n",
       "      <td>2.418333</td>\n",
       "    </tr>\n",
       "  </tbody>\n",
       "</table>\n",
       "</div>"
      ],
      "text/plain": [
       "                             CourseName   qnt  porcentagem\n",
       "100                             Direito  9862    16.436667\n",
       "0                         Administração  4099     6.831667\n",
       "139                    Engenharia Civil  3585     5.975000\n",
       "85   Contabilidade / Ciências Contábeis  2744     4.573333\n",
       "363                           Pedagogia  2627     4.378333\n",
       "388                          Psicologia  2155     3.591667\n",
       "122                          Enfermagem  2054     3.423333\n",
       "340                            Medicina  1656     2.760000\n",
       "206                        Fisioterapia  1464     2.440000\n",
       "155                 Engenharia Mecânica  1451     2.418333"
      ]
     },
     "execution_count": 42,
     "metadata": {},
     "output_type": "execute_result"
    }
   ],
   "source": [
    "top_cursos10 = top_cursos.head(10)\n",
    "top_cursos10"
   ]
  },
  {
   "cell_type": "code",
   "execution_count": 43,
   "metadata": {},
   "outputs": [
    {
     "data": {
      "image/png": "[encoded data removed]",
      "text/plain": [
       "<matplotlib.figure.Figure at 0x7f10e837e050>"
      ]
     },
     "metadata": {},
     "output_type": "display_data"
    }
   ],
   "source": [
    "cursos_graph = sns.barplot(x='CourseName', y='porcentagem', data=top_cursos10, \n",
    "                         palette='YlOrBr_r')\n",
    "\n",
    "\n",
    "for tick in cursos_graph.get_xticklabels():\n",
    "    tick.set_rotation(90)\n",
    "\n",
    "plt.xlabel('', fontweight='bold', fontsize=15)  \n",
    "plt.ylabel('% de students', fontweight='bold', fontsize=15);\n",
    "plt.tight_layout()\n",
    "cursos_graph.figure.savefig('cursos_graph.png', dpi=100)"
   ]
  },
  {
   "cell_type": "code",
   "execution_count": null,
   "metadata": {
    "collapsed": true
   },
   "outputs": [],
   "source": []
  }
 ],
 "metadata": {
  "kernelspec": {
   "display_name": "Python 2",
   "language": "python",
   "name": "python2"
  },
  "language_info": {
   "codemirror_mode": {
    "name": "ipython",
    "version": 2
   },
   "file_extension": ".py",
   "mimetype": "text/x-python",
   "name": "python",
   "nbconvert_exporter": "python",
   "pygments_lexer": "ipython2",
   "version": "2.7.13"
  }
 },
 "nbformat": 4,
 "nbformat_minor": 2
}
