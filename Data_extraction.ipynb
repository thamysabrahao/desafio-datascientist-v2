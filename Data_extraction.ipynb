{
 "cells": [
  {
   "cell_type": "code",
   "execution_count": 1,
   "metadata": {
    "collapsed": true
   },
   "outputs": [],
   "source": [
    "# Thamys Abrahao - 06/2018\n",
    "import pandas as pd\n",
    "import json\n",
    "import numpy as np\n",
    "import glob\n",
    "import matplotlib.pyplot as plt\n",
    "import seaborn as sns\n",
    "%matplotlib inline\n",
    "sns.set(rc={'figure.figsize':(7.7,7.7)}) # graph size"
   ]
  },
  {
   "cell_type": "code",
   "execution_count": 2,
   "metadata": {},
   "outputs": [
    {
     "name": "stdout",
     "output_type": "stream",
     "text": [
      "['questions.json', 'students.json', 'sessions.json', 'premium_payments.json', 'answers.json', 'textBookSolutionViews.json', 'subjects.json', 'premium_cancellations.json', 'fileViews.json', 'evaluations.json', 'studyPlanViews.json']\n"
     ]
    }
   ],
   "source": [
    "files_list_original = []\n",
    "\n",
    "for name in glob.glob('*.json'):\n",
    "    files_list_original.append(name)\n",
    "    \n",
    "print(files_list_original)    "
   ]
  },
  {
   "cell_type": "code",
   "execution_count": 3,
   "metadata": {},
   "outputs": [
    {
     "data": {
      "text/plain": [
       "['questions.json',\n",
       " 'students.json',\n",
       " 'sessions.json',\n",
       " 'premium_payments.json',\n",
       " 'answers.json',\n",
       " 'textBookSolutionViews.json',\n",
       " 'subjects.json',\n",
       " 'premium_cancellations.json',\n",
       " 'fileViews.json',\n",
       " 'evaluations.json',\n",
       " 'studyPlanViews.json']"
      ]
     },
     "execution_count": 3,
     "metadata": {},
     "output_type": "execute_result"
    }
   ],
   "source": [
    "files_list_student = files_list_original \n",
    "files_list_student"
   ]
  },
  {
   "cell_type": "code",
   "execution_count": 4,
   "metadata": {
    "scrolled": false
   },
   "outputs": [
    {
     "name": "stdout",
     "output_type": "stream",
     "text": [
      "***********************************************\n",
      "df_questions\n",
      "                 QuestionDate  \\\n",
      "0  2013-09-04 14:09:25.963000   \n",
      "1  2013-09-04 15:36:51.083000   \n",
      "2  2013-10-30 19:41:43.137000   \n",
      "3  2013-10-30 19:19:15.517000   \n",
      "4  2013-10-30 19:38:06.420000   \n",
      "\n",
      "                                     QuestionSnippet StudentClient  StudentId  \n",
      "0  O que é mais importante para um projeto: escop...           NaN   12970655  \n",
      "1  Você pode ter um negócio/produto bem sucedido ...           NaN   12970655  \n",
      "2  Custos com consultoria para planejar um projet...           NaN   12970655  \n",
      "3  CAPEX: investimento em consultoria entra como ...           NaN   12970655  \n",
      "4  Custos com consultoria para planejar um projet...           NaN   12970655  \n",
      "********** cleaning empty values **************\n",
      "***************** final df ********************\n",
      "                 QuestionDate  \\\n",
      "0  2013-09-04 14:09:25.963000   \n",
      "1  2013-09-04 15:36:51.083000   \n",
      "2  2013-10-30 19:41:43.137000   \n",
      "3  2013-10-30 19:19:15.517000   \n",
      "4  2013-10-30 19:38:06.420000   \n",
      "\n",
      "                                     QuestionSnippet StudentClient  StudentId  \n",
      "0  O que é mais importante para um projeto: escop...           NaN   12970655  \n",
      "1  Você pode ter um negócio/produto bem sucedido ...           NaN   12970655  \n",
      "2  Custos com consultoria para planejar um projet...           NaN   12970655  \n",
      "3  CAPEX: investimento em consultoria entra como ...           NaN   12970655  \n",
      "4  Custos com consultoria para planejar um projet...           NaN   12970655  \n",
      "***********************************************\n",
      "***********************************************\n",
      "df_students\n",
      "             City                              CourseName        Id  \\\n",
      "0             NaN                           Administração  12970655   \n",
      "1  Rio de Janeiro  Direito do Trabalho e Segurança Social  59873654   \n",
      "2             NaN                              Enfermagem   3664695   \n",
      "3         Resende         Engenharia de Produção Mecânica  15207697   \n",
      "4             NaN                     Engenharia Elétrica  36988693   \n",
      "\n",
      "               RegisteredDate SignupSource             State StudentClient  \\\n",
      "0  2012-05-29 15:22:27.490000        Email    Rio de Janeiro           NaN   \n",
      "1  2012-09-03 20:32:04.853000     Facebook    Rio de Janeiro           NaN   \n",
      "2  2012-09-10 20:26:30.253000     Facebook  Distrito Federal           NaN   \n",
      "3  2012-09-05 15:31:08.090000     Facebook    Rio de Janeiro           NaN   \n",
      "4  2012-10-15 21:34:51.143000     Facebook               NaN           NaN   \n",
      "\n",
      "  UniversityName  \n",
      "0        PUC-RIO  \n",
      "1            UFF  \n",
      "2            UNB  \n",
      "3           UERJ  \n",
      "4            UFU  \n",
      "********** cleaning empty values **************\n",
      "***************** final df ********************\n",
      "             City                              CourseName        Id  \\\n",
      "0             NaN                           Administração  12970655   \n",
      "1  Rio de Janeiro  Direito do Trabalho e Segurança Social  59873654   \n",
      "2             NaN                              Enfermagem   3664695   \n",
      "3         Resende         Engenharia de Produção Mecânica  15207697   \n",
      "4             NaN                     Engenharia Elétrica  36988693   \n",
      "\n",
      "               RegisteredDate SignupSource             State StudentClient  \\\n",
      "0  2012-05-29 15:22:27.490000        Email    Rio de Janeiro           NaN   \n",
      "1  2012-09-03 20:32:04.853000     Facebook    Rio de Janeiro           NaN   \n",
      "2  2012-09-10 20:26:30.253000     Facebook  Distrito Federal           NaN   \n",
      "3  2012-09-05 15:31:08.090000     Facebook    Rio de Janeiro           NaN   \n",
      "4  2012-10-15 21:34:51.143000     Facebook               NaN           NaN   \n",
      "\n",
      "  UniversityName  \n",
      "0        PUC-RIO  \n",
      "1            UFF  \n",
      "2            UNB  \n",
      "3           UERJ  \n",
      "4            UFU  \n",
      "***********************************************\n",
      "***********************************************\n",
      "df_sessions\n",
      "      SessionStartTime StudentClient  StudentId\n",
      "0  2017-02-20 14:51:37       Website   12970655\n",
      "1  2017-02-22 14:04:34       Website   12970655\n",
      "2  2017-02-23 13:46:14       Website   12970655\n",
      "3  2017-02-23 14:52:24       Website   12970655\n",
      "4  2017-03-03 20:47:21       Website   12970655\n",
      "********** cleaning empty values **************\n",
      "***************** final df ********************\n",
      "      SessionStartTime StudentClient  StudentId\n",
      "0  2017-02-20 14:51:37       Website   12970655\n",
      "1  2017-02-22 14:04:34       Website   12970655\n",
      "2  2017-02-23 13:46:14       Website   12970655\n",
      "3  2017-02-23 14:52:24       Website   12970655\n",
      "4  2017-03-03 20:47:21       Website   12970655\n",
      "***********************************************\n",
      "***********************************************\n",
      "df_premium_payments\n",
      "                  PaymentDate PlanType  StudentId\n",
      "0  2017-05-26 22:25:03.000000    Anual   12970655\n",
      "1  2018-05-26 10:05:28.000000    Anual   12970655\n",
      "2  2016-07-21 19:57:57.717000   Mensal   12970655\n",
      "3  2016-08-21 08:47:42.947000   Mensal   12970655\n",
      "4  2016-09-21 08:54:06.270000   Mensal   12970655\n",
      "********** cleaning empty values **************\n",
      "***************** final df ********************\n",
      "                  PaymentDate PlanType  StudentId\n",
      "0  2017-05-26 22:25:03.000000    Anual   12970655\n",
      "1  2018-05-26 10:05:28.000000    Anual   12970655\n",
      "2  2016-07-21 19:57:57.717000   Mensal   12970655\n",
      "3  2016-08-21 08:47:42.947000   Mensal   12970655\n",
      "4  2016-09-21 08:54:06.270000   Mensal   12970655\n",
      "***********************************************\n",
      "***********************************************\n",
      "df_answers\n",
      "                   AnswerDate  \\\n",
      "0  2013-08-30 12:27:57.190000   \n",
      "1  2013-09-04 14:03:18.240000   \n",
      "2  2013-09-05 13:20:09.513000   \n",
      "3  2013-09-04 19:01:56.357000   \n",
      "4  2013-11-12 00:06:05.200000   \n",
      "\n",
      "                                       AnswerSnippet StudentClient  StudentId  \n",
      "0  <p>Vou tentar <span style=\"text-decoration: un...           NaN   12970655  \n",
      "1  <p>O <strong>centil</strong> divide algo em 10...           NaN   12970655  \n",
      "2  <p>Ou ser&aacute; que o problema que esses pro...           NaN   12970655  \n",
      "3  <p>Excelente pergunta! Abaixo est&atilde;o as ...           NaN   12970655  \n",
      "4  <p>Vamos supor que voc&ecirc; se compromete a ...           NaN   12970655  \n",
      "********** cleaning empty values **************\n",
      "***************** final df ********************\n",
      "                   AnswerDate  \\\n",
      "0  2013-08-30 12:27:57.190000   \n",
      "1  2013-09-04 14:03:18.240000   \n",
      "2  2013-09-05 13:20:09.513000   \n",
      "3  2013-09-04 19:01:56.357000   \n",
      "4  2013-11-12 00:06:05.200000   \n",
      "\n",
      "                                       AnswerSnippet StudentClient  StudentId  \n",
      "0  <p>Vou tentar <span style=\"text-decoration: un...           NaN   12970655  \n",
      "1  <p>O <strong>centil</strong> divide algo em 10...           NaN   12970655  \n",
      "2  <p>Ou ser&aacute; que o problema que esses pro...           NaN   12970655  \n",
      "3  <p>Excelente pergunta! Abaixo est&atilde;o as ...           NaN   12970655  \n",
      "4  <p>Vamos supor que voc&ecirc; se compromete a ...           NaN   12970655  \n",
      "***********************************************\n",
      "***********************************************\n",
      "df_textBookSolutionViews\n",
      "                                           BookTitle  StudentId    ViewDate\n",
      "0                                    Anatomia Humana   74858176  2017-08-01\n",
      "1  Ci?ncia Engenharia de Materiais - Uma Introdu?...   52461487  2017-08-01\n",
      "2  Ci?ncia Engenharia de Materiais - Uma Introdu?...   52461487  2017-08-01\n",
      "3  Ci?ncia Engenharia de Materiais - Uma Introdu?...   52461487  2017-08-01\n",
      "4              Fundamentos de Economia - 5? Ed. 2014   44170703  2017-08-01\n",
      "********** cleaning empty values **************\n",
      "***************** final df ********************\n",
      "                                           BookTitle  StudentId    ViewDate\n",
      "0                                    Anatomia Humana   74858176  2017-08-01\n",
      "1  Ci?ncia Engenharia de Materiais - Uma Introdu?...   52461487  2017-08-01\n",
      "2  Ci?ncia Engenharia de Materiais - Uma Introdu?...   52461487  2017-08-01\n",
      "3  Ci?ncia Engenharia de Materiais - Uma Introdu?...   52461487  2017-08-01\n",
      "4              Fundamentos de Economia - 5? Ed. 2014   44170703  2017-08-01\n",
      "***********************************************\n",
      "***********************************************\n",
      "df_subjects\n",
      "                   FollowDate  StudentId  \\\n",
      "0  2015-09-12 16:00:11.000000   12970655   \n",
      "1  2015-09-12 16:00:11.000000   12970655   \n",
      "2  2016-06-07 17:07:35.000000   12970655   \n",
      "3  2015-09-12 16:00:11.000000   12970655   \n",
      "4  2015-09-12 16:00:11.000000   12970655   \n",
      "\n",
      "                              SubjectName  \n",
      "0               Disciplina Integradora II  \n",
      "1                    Pesquisa Operacional  \n",
      "2                               Cálculo I  \n",
      "3              Introdução à Administração  \n",
      "4  Contabilidade Aplicada à Administração  \n",
      "********** cleaning empty values **************\n",
      "***************** final df ********************\n",
      "                   FollowDate  StudentId  \\\n",
      "0  2015-09-12 16:00:11.000000   12970655   \n",
      "1  2015-09-12 16:00:11.000000   12970655   \n",
      "2  2016-06-07 17:07:35.000000   12970655   \n",
      "3  2015-09-12 16:00:11.000000   12970655   \n",
      "4  2015-09-12 16:00:11.000000   12970655   \n",
      "\n",
      "                              SubjectName  \n",
      "0               Disciplina Integradora II  \n",
      "1                    Pesquisa Operacional  \n",
      "2                               Cálculo I  \n",
      "3              Introdução à Administração  \n",
      "4  Contabilidade Aplicada à Administração  \n",
      "***********************************************\n"
     ]
    },
    {
     "name": "stdout",
     "output_type": "stream",
     "text": [
      "***********************************************\n",
      "df_premium_cancellations\n",
      "             CancellationDate  StudentId\n",
      "0  2016-05-05 19:08:31.937000   34129668\n",
      "1  2016-05-05 22:48:20.830000   34129668\n",
      "2  2016-05-20 22:37:21.117000   82394932\n",
      "3  2016-05-31 13:44:55.307000   82942835\n",
      "4  2016-06-01 14:22:19.467000   85382416\n",
      "********** cleaning empty values **************\n",
      "***************** final df ********************\n",
      "             CancellationDate  StudentId\n",
      "0  2016-05-05 19:08:31.937000   34129668\n",
      "1  2016-05-05 22:48:20.830000   34129668\n",
      "2  2016-05-20 22:37:21.117000   82394932\n",
      "3  2016-05-31 13:44:55.307000   82942835\n",
      "4  2016-06-01 14:22:19.467000   85382416\n",
      "***********************************************\n",
      "***********************************************\n",
      "df_fileViews\n",
      "                                            FileName  StudentId Studentclient  \\\n",
      "0  Exercicios Resolvidos do Halliday sobre Rotaçã...   12970655       Website   \n",
      "1  Exercicios Resolvidos do Halliday sobre Rotaçã...   12970655       Website   \n",
      "2                                          CALCULO I   12970655       Website   \n",
      "3                                          CALCULO I   12970655       Website   \n",
      "4                                          CALCULO I   12970655       Website   \n",
      "\n",
      "                     ViewDate  \n",
      "0  2017-02-23 10:46:03.047000  \n",
      "1  2017-02-23 10:46:12.370000  \n",
      "2  2017-05-25 22:39:48.000000  \n",
      "3  2017-05-25 22:40:36.000000  \n",
      "4  2017-05-25 22:43:16.000000  \n",
      "********** cleaning empty values **************\n",
      "***************** final df ********************\n",
      "                                            FileName  StudentId Studentclient  \\\n",
      "0  Exercicios Resolvidos do Halliday sobre Rotaçã...   12970655       Website   \n",
      "1  Exercicios Resolvidos do Halliday sobre Rotaçã...   12970655       Website   \n",
      "2                                          CALCULO I   12970655       Website   \n",
      "3                                          CALCULO I   12970655       Website   \n",
      "4                                          CALCULO I   12970655       Website   \n",
      "\n",
      "                     ViewDate  \n",
      "0  2017-02-23 10:46:03.047000  \n",
      "1  2017-02-23 10:46:12.370000  \n",
      "2  2017-05-25 22:39:48.000000  \n",
      "3  2017-05-25 22:40:36.000000  \n",
      "4  2017-05-25 22:43:16.000000  \n",
      "***********************************************\n",
      "***********************************************\n",
      "df_evaluations\n",
      "  EvaluatedObjectType EvaluationType StudentClient  StudentId\n",
      "0             Comment           Like           NaN   12970655\n",
      "1             Comment           Like           NaN   10962833\n",
      "2             Comment           Like       Website   96396664\n",
      "3             Comment           Like       Website   44218778\n",
      "4             Comment           Like           NaN   71423783\n",
      "********** cleaning empty values **************\n",
      "***************** final df ********************\n",
      "  EvaluatedObjectType EvaluationType StudentClient  StudentId\n",
      "0             Comment           Like           NaN   12970655\n",
      "1             Comment           Like           NaN   10962833\n",
      "2             Comment           Like       Website   96396664\n",
      "3             Comment           Like       Website   44218778\n",
      "4             Comment           Like           NaN   71423783\n",
      "***********************************************\n",
      "***********************************************\n",
      "df_studyPlanViews\n",
      "   StudentId Subject               Topic    ViewDate\n",
      "0   77516525                              2017-08-01\n",
      "1    7725131                              2017-08-01\n",
      "2   10076492          resumos-de-quimica  2017-08-01\n",
      "3   11133705                              2017-08-01\n",
      "4   11133705                              2017-08-01\n",
      "********** cleaning empty values **************\n",
      "***************** final df ********************\n",
      "   StudentId Subject               Topic    ViewDate\n",
      "0   77516525     NaN                 NaN  2017-08-01\n",
      "1    7725131     NaN                 NaN  2017-08-01\n",
      "2   10076492     NaN  resumos-de-quimica  2017-08-01\n",
      "3   11133705     NaN                 NaN  2017-08-01\n",
      "4   11133705     NaN                 NaN  2017-08-01\n",
      "***********************************************\n"
     ]
    }
   ],
   "source": [
    "# abrindo os arquivos e colocando o conteúdo de cada um em um df diferente\n",
    "\n",
    "df_list = []\n",
    "\n",
    "for file_name in files_list_student:\n",
    "    col_name = file_name.split('.')[0]\n",
    "    #print(col_name)\n",
    "    with open(file_name, 'r') as f:\n",
    "        data = json.load(f)\n",
    "        \n",
    "    var_name = 'df_{}'.format(col_name)\n",
    "    print '***********************************************'\n",
    "    print(var_name)\n",
    "    globals()[var_name] = pd.DataFrame(data)\n",
    "    df_list.append(globals()[var_name])\n",
    "    print(globals()[var_name].head())\n",
    "    print '********** cleaning empty values **************'\n",
    "    globals()[var_name].replace('', np.nan, inplace=True)\n",
    "    print '***************** final df ********************'\n",
    "    print(globals()[var_name].head())\n",
    "    print '***********************************************'\n",
    "    "
   ]
  },
  {
   "cell_type": "code",
   "execution_count": 5,
   "metadata": {
    "collapsed": true
   },
   "outputs": [],
   "source": [
    "def df_info_visualization(df):\n",
    "    '''\n",
    "    Funcao para plotar o percentual de preenchimento das variáveis do df\n",
    "    '''\n",
    "    \n",
    "    column_ = []\n",
    "    total_ = []\n",
    "\n",
    "    for column in df.columns:\n",
    "        perc = (float(df[column].count())/len(df))*100\n",
    "        column_.append(column)\n",
    "        total_.append(perc)\n",
    "\n",
    "    df_graph = pd.DataFrame(total_, column_).reset_index()\n",
    "    df_graph.columns = ['variavel', 'info']\n",
    "    df_graph = df_graph.sort_values(by='info', ascending=True)\n",
    "    \n",
    "    graph_ = sns.barplot(x='variavel', y='info', \n",
    "                         data=df_graph, palette='Paired')\n",
    "    \n",
    "    for tick in graph_.get_xticklabels():\n",
    "        tick.set_rotation(90)\n",
    "\n",
    "    graph_.xaxis.set_tick_params(labelsize=15)    \n",
    "    graph_.yaxis.set_tick_params(labelsize=15)    \n",
    "\n",
    "    plt.xlabel('', fontweight='bold', fontsize=20)\n",
    "    plt.ylabel('Percentual de info. (%)',fontweight='bold', fontsize=20)\n",
    "    plt.tight_layout()\n",
    "    \n",
    "    return plt.show()\n",
    "    "
   ]
  },
  {
   "cell_type": "code",
   "execution_count": 6,
   "metadata": {
    "scrolled": false
   },
   "outputs": [
    {
     "name": "stdout",
     "output_type": "stream",
     "text": [
      "(7522, 4)\n"
     ]
    },
    {
     "data": {
      "image/png": "[encoded data removed]",
      "text/plain": [
       "<matplotlib.figure.Figure at 0x7fe0ac13bf50>"
      ]
     },
     "metadata": {},
     "output_type": "display_data"
    }
   ],
   "source": [
    "# conhecendo a informação de cada um dos arquivos\n",
    "print(df_answers.shape)\n",
    "df_info_visualization(df_answers)\n",
    "#plt.savefig('teste.png')"
   ]
  },
  {
   "cell_type": "code",
   "execution_count": 7,
   "metadata": {},
   "outputs": [
    {
     "name": "stdout",
     "output_type": "stream",
     "text": [
      "(106889, 4)\n"
     ]
    },
    {
     "data": {
      "image/png": "[encoded data removed]",
      "text/plain": [
       "<matplotlib.figure.Figure at 0x7fe093daccd0>"
      ]
     },
     "metadata": {},
     "output_type": "display_data"
    }
   ],
   "source": [
    "print(df_evaluations.shape)\n",
    "df_info_visualization(df_evaluations)"
   ]
  },
  {
   "cell_type": "code",
   "execution_count": 8,
   "metadata": {},
   "outputs": [
    {
     "name": "stdout",
     "output_type": "stream",
     "text": [
      "(3028983, 4)\n"
     ]
    },
    {
     "data": {
      "image/png": "[encoded data removed]",
      "text/plain": [
       "<matplotlib.figure.Figure at 0x7fe08e787b90>"
      ]
     },
     "metadata": {},
     "output_type": "display_data"
    },
    {
     "data": {
      "text/html": [
       "<div>\n",
       "<style>\n",
       "    .dataframe thead tr:only-child th {\n",
       "        text-align: right;\n",
       "    }\n",
       "\n",
       "    .dataframe thead th {\n",
       "        text-align: left;\n",
       "    }\n",
       "\n",
       "    .dataframe tbody tr th {\n",
       "        vertical-align: top;\n",
       "    }\n",
       "</style>\n",
       "<table border=\"1\" class=\"dataframe\">\n",
       "  <thead>\n",
       "    <tr style=\"text-align: right;\">\n",
       "      <th></th>\n",
       "      <th>FileName</th>\n",
       "      <th>StudentId</th>\n",
       "      <th>Studentclient</th>\n",
       "      <th>ViewDate</th>\n",
       "    </tr>\n",
       "  </thead>\n",
       "  <tbody>\n",
       "    <tr>\n",
       "      <th>3028978</th>\n",
       "      <td>Gestão de Conhecimento Atividade Diagnóstica 0...</td>\n",
       "      <td>69759595</td>\n",
       "      <td>Android | 6.0.1 | sdk 23</td>\n",
       "      <td>2018-04-26 00:17:17.000000</td>\n",
       "    </tr>\n",
       "    <tr>\n",
       "      <th>3028979</th>\n",
       "      <td>Gestão do Conhecimento Atividade de Aprendizag...</td>\n",
       "      <td>69759595</td>\n",
       "      <td>Android | 6.0.1 | sdk 23</td>\n",
       "      <td>2018-04-25 22:57:28.000000</td>\n",
       "    </tr>\n",
       "    <tr>\n",
       "      <th>3028980</th>\n",
       "      <td>Gestão do Conhecimento Atividade de Aprendizag...</td>\n",
       "      <td>69759595</td>\n",
       "      <td>Android | 6.0.1 | sdk 23</td>\n",
       "      <td>2018-04-25 22:57:50.000000</td>\n",
       "    </tr>\n",
       "    <tr>\n",
       "      <th>3028981</th>\n",
       "      <td>Avaliação de Proficiência Questões de estudo 01</td>\n",
       "      <td>69759595</td>\n",
       "      <td>Android | 6.0.1 | sdk 23</td>\n",
       "      <td>2018-05-13 19:39:21.000000</td>\n",
       "    </tr>\n",
       "    <tr>\n",
       "      <th>3028982</th>\n",
       "      <td>20180518_183049.jpg</td>\n",
       "      <td>69759595</td>\n",
       "      <td>Android | 6.0.1 | sdk 23</td>\n",
       "      <td>2018-05-20 18:31:31.000000</td>\n",
       "    </tr>\n",
       "  </tbody>\n",
       "</table>\n",
       "</div>"
      ],
      "text/plain": [
       "                                                  FileName  StudentId  \\\n",
       "3028978  Gestão de Conhecimento Atividade Diagnóstica 0...   69759595   \n",
       "3028979  Gestão do Conhecimento Atividade de Aprendizag...   69759595   \n",
       "3028980  Gestão do Conhecimento Atividade de Aprendizag...   69759595   \n",
       "3028981    Avaliação de Proficiência Questões de estudo 01   69759595   \n",
       "3028982                                20180518_183049.jpg   69759595   \n",
       "\n",
       "                    Studentclient                    ViewDate  \n",
       "3028978  Android | 6.0.1 | sdk 23  2018-04-26 00:17:17.000000  \n",
       "3028979  Android | 6.0.1 | sdk 23  2018-04-25 22:57:28.000000  \n",
       "3028980  Android | 6.0.1 | sdk 23  2018-04-25 22:57:50.000000  \n",
       "3028981  Android | 6.0.1 | sdk 23  2018-05-13 19:39:21.000000  \n",
       "3028982  Android | 6.0.1 | sdk 23  2018-05-20 18:31:31.000000  "
      ]
     },
     "execution_count": 8,
     "metadata": {},
     "output_type": "execute_result"
    }
   ],
   "source": [
    "print(df_fileViews.shape)\n",
    "df_info_visualization(df_fileViews)\n",
    "df_fileViews.tail()"
   ]
  },
  {
   "cell_type": "code",
   "execution_count": 9,
   "metadata": {},
   "outputs": [
    {
     "name": "stdout",
     "output_type": "stream",
     "text": [
      "(844, 2)\n"
     ]
    },
    {
     "data": {
      "image/png": "[encoded data removed]",
      "text/plain": [
       "<matplotlib.figure.Figure at 0x7fe08e752450>"
      ]
     },
     "metadata": {},
     "output_type": "display_data"
    }
   ],
   "source": [
    "print(df_premium_cancellations.shape)\n",
    "df_info_visualization(df_premium_cancellations)"
   ]
  },
  {
   "cell_type": "code",
   "execution_count": 10,
   "metadata": {},
   "outputs": [
    {
     "name": "stdout",
     "output_type": "stream",
     "text": [
      "(7276, 3)\n"
     ]
    },
    {
     "data": {
      "image/png": "[encoded data removed]",
      "text/plain": [
       "<matplotlib.figure.Figure at 0x7fe08e640110>"
      ]
     },
     "metadata": {},
     "output_type": "display_data"
    }
   ],
   "source": [
    "print(df_premium_payments.shape)\n",
    "df_info_visualization(df_premium_payments)"
   ]
  },
  {
   "cell_type": "code",
   "execution_count": 11,
   "metadata": {},
   "outputs": [
    {
     "name": "stdout",
     "output_type": "stream",
     "text": [
      "(3906, 4)\n"
     ]
    },
    {
     "data": {
      "image/png": "[encoded data removed]",
      "text/plain": [
       "<matplotlib.figure.Figure at 0x7fe08e595350>"
      ]
     },
     "metadata": {},
     "output_type": "display_data"
    }
   ],
   "source": [
    "print(df_questions.shape)\n",
    "df_info_visualization(df_questions)"
   ]
  },
  {
   "cell_type": "code",
   "execution_count": 12,
   "metadata": {},
   "outputs": [
    {
     "name": "stdout",
     "output_type": "stream",
     "text": [
      "(1399062, 3)\n"
     ]
    },
    {
     "data": {
      "image/png": "[encoded data removed]",
      "text/plain": [
       "<matplotlib.figure.Figure at 0x7fe08e49a750>"
      ]
     },
     "metadata": {},
     "output_type": "display_data"
    }
   ],
   "source": [
    "print(df_sessions.shape)\n",
    "df_info_visualization(df_sessions)"
   ]
  },
  {
   "cell_type": "code",
   "execution_count": 13,
   "metadata": {},
   "outputs": [
    {
     "name": "stdout",
     "output_type": "stream",
     "text": [
      "(60000, 8)\n"
     ]
    },
    {
     "data": {
      "image/png": "[encoded data removed]",
      "text/plain": [
       "<matplotlib.figure.Figure at 0x7fe093649d90>"
      ]
     },
     "metadata": {},
     "output_type": "display_data"
    }
   ],
   "source": [
    "df_students.rename(columns={'Id':'StudentId'}, inplace=True)\n",
    "print(df_students.shape)\n",
    "df_info_visualization(df_students)"
   ]
  },
  {
   "cell_type": "code",
   "execution_count": 14,
   "metadata": {},
   "outputs": [
    {
     "name": "stdout",
     "output_type": "stream",
     "text": [
      "(7749, 4)\n"
     ]
    },
    {
     "data": {
      "image/png": "[encoded data removed]",
      "text/plain": [
       "<matplotlib.figure.Figure at 0x7fe08e4fe390>"
      ]
     },
     "metadata": {},
     "output_type": "display_data"
    }
   ],
   "source": [
    "print(df_studyPlanViews.shape)\n",
    "df_info_visualization(df_studyPlanViews)"
   ]
  },
  {
   "cell_type": "code",
   "execution_count": 15,
   "metadata": {},
   "outputs": [
    {
     "name": "stdout",
     "output_type": "stream",
     "text": [
      "(315766, 3)\n"
     ]
    },
    {
     "data": {
      "image/png": "[encoded data removed]",
      "text/plain": [
       "<matplotlib.figure.Figure at 0x7fe0936492d0>"
      ]
     },
     "metadata": {},
     "output_type": "display_data"
    }
   ],
   "source": [
    "print(df_subjects.shape)\n",
    "df_info_visualization(df_subjects)"
   ]
  },
  {
   "cell_type": "code",
   "execution_count": 16,
   "metadata": {
    "scrolled": false
   },
   "outputs": [
    {
     "name": "stdout",
     "output_type": "stream",
     "text": [
      "(23088, 3)\n"
     ]
    },
    {
     "data": {
      "image/png": "[encoded data removed]",
      "text/plain": [
       "<matplotlib.figure.Figure at 0x7fe08e4fe810>"
      ]
     },
     "metadata": {},
     "output_type": "display_data"
    }
   ],
   "source": [
    "print(df_textBookSolutionViews.shape)\n",
    "df_info_visualization(df_textBookSolutionViews)"
   ]
  },
  {
   "cell_type": "markdown",
   "metadata": {},
   "source": [
    "# Montando a base com os pagantes"
   ]
  },
  {
   "cell_type": "code",
   "execution_count": 17,
   "metadata": {},
   "outputs": [
    {
     "name": "stdout",
     "output_type": "stream",
     "text": [
      "(60000, 8)\n",
      "60000\n"
     ]
    },
    {
     "data": {
      "text/html": [
       "<div>\n",
       "<style>\n",
       "    .dataframe thead tr:only-child th {\n",
       "        text-align: right;\n",
       "    }\n",
       "\n",
       "    .dataframe thead th {\n",
       "        text-align: left;\n",
       "    }\n",
       "\n",
       "    .dataframe tbody tr th {\n",
       "        vertical-align: top;\n",
       "    }\n",
       "</style>\n",
       "<table border=\"1\" class=\"dataframe\">\n",
       "  <thead>\n",
       "    <tr style=\"text-align: right;\">\n",
       "      <th></th>\n",
       "      <th>City</th>\n",
       "      <th>CourseName</th>\n",
       "      <th>StudentId</th>\n",
       "      <th>RegisteredDate</th>\n",
       "      <th>SignupSource</th>\n",
       "      <th>State</th>\n",
       "      <th>StudentClient</th>\n",
       "      <th>UniversityName</th>\n",
       "    </tr>\n",
       "  </thead>\n",
       "  <tbody>\n",
       "    <tr>\n",
       "      <th>0</th>\n",
       "      <td>NaN</td>\n",
       "      <td>Administração</td>\n",
       "      <td>12970655</td>\n",
       "      <td>2012-05-29 15:22:27.490000</td>\n",
       "      <td>Email</td>\n",
       "      <td>Rio de Janeiro</td>\n",
       "      <td>NaN</td>\n",
       "      <td>PUC-RIO</td>\n",
       "    </tr>\n",
       "    <tr>\n",
       "      <th>1</th>\n",
       "      <td>Rio de Janeiro</td>\n",
       "      <td>Direito do Trabalho e Segurança Social</td>\n",
       "      <td>59873654</td>\n",
       "      <td>2012-09-03 20:32:04.853000</td>\n",
       "      <td>Facebook</td>\n",
       "      <td>Rio de Janeiro</td>\n",
       "      <td>NaN</td>\n",
       "      <td>UFF</td>\n",
       "    </tr>\n",
       "    <tr>\n",
       "      <th>2</th>\n",
       "      <td>NaN</td>\n",
       "      <td>Enfermagem</td>\n",
       "      <td>3664695</td>\n",
       "      <td>2012-09-10 20:26:30.253000</td>\n",
       "      <td>Facebook</td>\n",
       "      <td>Distrito Federal</td>\n",
       "      <td>NaN</td>\n",
       "      <td>UNB</td>\n",
       "    </tr>\n",
       "    <tr>\n",
       "      <th>3</th>\n",
       "      <td>Resende</td>\n",
       "      <td>Engenharia de Produção Mecânica</td>\n",
       "      <td>15207697</td>\n",
       "      <td>2012-09-05 15:31:08.090000</td>\n",
       "      <td>Facebook</td>\n",
       "      <td>Rio de Janeiro</td>\n",
       "      <td>NaN</td>\n",
       "      <td>UERJ</td>\n",
       "    </tr>\n",
       "    <tr>\n",
       "      <th>4</th>\n",
       "      <td>NaN</td>\n",
       "      <td>Engenharia Elétrica</td>\n",
       "      <td>36988693</td>\n",
       "      <td>2012-10-15 21:34:51.143000</td>\n",
       "      <td>Facebook</td>\n",
       "      <td>NaN</td>\n",
       "      <td>NaN</td>\n",
       "      <td>UFU</td>\n",
       "    </tr>\n",
       "  </tbody>\n",
       "</table>\n",
       "</div>"
      ],
      "text/plain": [
       "             City                              CourseName  StudentId  \\\n",
       "0             NaN                           Administração   12970655   \n",
       "1  Rio de Janeiro  Direito do Trabalho e Segurança Social   59873654   \n",
       "2             NaN                              Enfermagem    3664695   \n",
       "3         Resende         Engenharia de Produção Mecânica   15207697   \n",
       "4             NaN                     Engenharia Elétrica   36988693   \n",
       "\n",
       "               RegisteredDate SignupSource             State StudentClient  \\\n",
       "0  2012-05-29 15:22:27.490000        Email    Rio de Janeiro           NaN   \n",
       "1  2012-09-03 20:32:04.853000     Facebook    Rio de Janeiro           NaN   \n",
       "2  2012-09-10 20:26:30.253000     Facebook  Distrito Federal           NaN   \n",
       "3  2012-09-05 15:31:08.090000     Facebook    Rio de Janeiro           NaN   \n",
       "4  2012-10-15 21:34:51.143000     Facebook               NaN           NaN   \n",
       "\n",
       "  UniversityName  \n",
       "0        PUC-RIO  \n",
       "1            UFF  \n",
       "2            UNB  \n",
       "3           UERJ  \n",
       "4            UFU  "
      ]
     },
     "execution_count": 17,
     "metadata": {},
     "output_type": "execute_result"
    }
   ],
   "source": [
    "print(df_students.shape)\n",
    "print(len(df_students['StudentId'].drop_duplicates().dropna()))\n",
    "df_students.head()"
   ]
  },
  {
   "cell_type": "code",
   "execution_count": 18,
   "metadata": {},
   "outputs": [
    {
     "name": "stdout",
     "output_type": "stream",
     "text": [
      "(7276, 3)\n",
      "1983\n"
     ]
    },
    {
     "data": {
      "text/html": [
       "<div>\n",
       "<style>\n",
       "    .dataframe thead tr:only-child th {\n",
       "        text-align: right;\n",
       "    }\n",
       "\n",
       "    .dataframe thead th {\n",
       "        text-align: left;\n",
       "    }\n",
       "\n",
       "    .dataframe tbody tr th {\n",
       "        vertical-align: top;\n",
       "    }\n",
       "</style>\n",
       "<table border=\"1\" class=\"dataframe\">\n",
       "  <thead>\n",
       "    <tr style=\"text-align: right;\">\n",
       "      <th></th>\n",
       "      <th>PaymentDate</th>\n",
       "      <th>PlanType</th>\n",
       "      <th>StudentId</th>\n",
       "    </tr>\n",
       "  </thead>\n",
       "  <tbody>\n",
       "    <tr>\n",
       "      <th>0</th>\n",
       "      <td>2017-05-26 22:25:03.000000</td>\n",
       "      <td>Anual</td>\n",
       "      <td>12970655</td>\n",
       "    </tr>\n",
       "    <tr>\n",
       "      <th>1</th>\n",
       "      <td>2018-05-26 10:05:28.000000</td>\n",
       "      <td>Anual</td>\n",
       "      <td>12970655</td>\n",
       "    </tr>\n",
       "    <tr>\n",
       "      <th>2</th>\n",
       "      <td>2016-07-21 19:57:57.717000</td>\n",
       "      <td>Mensal</td>\n",
       "      <td>12970655</td>\n",
       "    </tr>\n",
       "    <tr>\n",
       "      <th>3</th>\n",
       "      <td>2016-08-21 08:47:42.947000</td>\n",
       "      <td>Mensal</td>\n",
       "      <td>12970655</td>\n",
       "    </tr>\n",
       "    <tr>\n",
       "      <th>4</th>\n",
       "      <td>2016-09-21 08:54:06.270000</td>\n",
       "      <td>Mensal</td>\n",
       "      <td>12970655</td>\n",
       "    </tr>\n",
       "  </tbody>\n",
       "</table>\n",
       "</div>"
      ],
      "text/plain": [
       "                  PaymentDate PlanType  StudentId\n",
       "0  2017-05-26 22:25:03.000000    Anual   12970655\n",
       "1  2018-05-26 10:05:28.000000    Anual   12970655\n",
       "2  2016-07-21 19:57:57.717000   Mensal   12970655\n",
       "3  2016-08-21 08:47:42.947000   Mensal   12970655\n",
       "4  2016-09-21 08:54:06.270000   Mensal   12970655"
      ]
     },
     "execution_count": 18,
     "metadata": {},
     "output_type": "execute_result"
    }
   ],
   "source": [
    "print(df_premium_payments.shape)\n",
    "print(len(df_premium_payments['StudentId'].drop_duplicates().dropna()))\n",
    "df_premium_payments.head()"
   ]
  },
  {
   "cell_type": "code",
   "execution_count": 19,
   "metadata": {},
   "outputs": [
    {
     "data": {
      "text/html": [
       "<div>\n",
       "<style>\n",
       "    .dataframe thead tr:only-child th {\n",
       "        text-align: right;\n",
       "    }\n",
       "\n",
       "    .dataframe thead th {\n",
       "        text-align: left;\n",
       "    }\n",
       "\n",
       "    .dataframe tbody tr th {\n",
       "        vertical-align: top;\n",
       "    }\n",
       "</style>\n",
       "<table border=\"1\" class=\"dataframe\">\n",
       "  <thead>\n",
       "    <tr style=\"text-align: right;\">\n",
       "      <th></th>\n",
       "      <th>PaymentDate</th>\n",
       "      <th>PlanType</th>\n",
       "      <th>StudentId</th>\n",
       "    </tr>\n",
       "  </thead>\n",
       "  <tbody>\n",
       "    <tr>\n",
       "      <th>0</th>\n",
       "      <td>2017-05-26 22:25:03.000000</td>\n",
       "      <td>Anual</td>\n",
       "      <td>12970655</td>\n",
       "    </tr>\n",
       "    <tr>\n",
       "      <th>1</th>\n",
       "      <td>2018-05-26 10:05:28.000000</td>\n",
       "      <td>Anual</td>\n",
       "      <td>12970655</td>\n",
       "    </tr>\n",
       "    <tr>\n",
       "      <th>2</th>\n",
       "      <td>2016-07-21 19:57:57.717000</td>\n",
       "      <td>Mensal</td>\n",
       "      <td>12970655</td>\n",
       "    </tr>\n",
       "    <tr>\n",
       "      <th>3</th>\n",
       "      <td>2016-08-21 08:47:42.947000</td>\n",
       "      <td>Mensal</td>\n",
       "      <td>12970655</td>\n",
       "    </tr>\n",
       "    <tr>\n",
       "      <th>4</th>\n",
       "      <td>2016-09-21 08:54:06.270000</td>\n",
       "      <td>Mensal</td>\n",
       "      <td>12970655</td>\n",
       "    </tr>\n",
       "    <tr>\n",
       "      <th>5</th>\n",
       "      <td>2016-10-21 07:15:22.177000</td>\n",
       "      <td>Mensal</td>\n",
       "      <td>12970655</td>\n",
       "    </tr>\n",
       "    <tr>\n",
       "      <th>6</th>\n",
       "      <td>2016-11-21 07:32:08.743000</td>\n",
       "      <td>Mensal</td>\n",
       "      <td>12970655</td>\n",
       "    </tr>\n",
       "    <tr>\n",
       "      <th>7</th>\n",
       "      <td>2016-12-21 10:09:27.583000</td>\n",
       "      <td>Mensal</td>\n",
       "      <td>12970655</td>\n",
       "    </tr>\n",
       "    <tr>\n",
       "      <th>8</th>\n",
       "      <td>2017-01-21 07:36:03.020000</td>\n",
       "      <td>Mensal</td>\n",
       "      <td>12970655</td>\n",
       "    </tr>\n",
       "    <tr>\n",
       "      <th>9</th>\n",
       "      <td>2017-02-21 08:16:47.740000</td>\n",
       "      <td>Mensal</td>\n",
       "      <td>12970655</td>\n",
       "    </tr>\n",
       "    <tr>\n",
       "      <th>10</th>\n",
       "      <td>2016-06-07 19:40:05.420000</td>\n",
       "      <td>Mensal</td>\n",
       "      <td>12970655</td>\n",
       "    </tr>\n",
       "    <tr>\n",
       "      <th>11</th>\n",
       "      <td>2016-07-07 09:05:27.750000</td>\n",
       "      <td>Mensal</td>\n",
       "      <td>12970655</td>\n",
       "    </tr>\n",
       "    <tr>\n",
       "      <th>12</th>\n",
       "      <td>2016-08-07 08:51:26.017000</td>\n",
       "      <td>Mensal</td>\n",
       "      <td>12970655</td>\n",
       "    </tr>\n",
       "    <tr>\n",
       "      <th>13</th>\n",
       "      <td>2016-09-07 08:52:57.213000</td>\n",
       "      <td>Mensal</td>\n",
       "      <td>12970655</td>\n",
       "    </tr>\n",
       "    <tr>\n",
       "      <th>14</th>\n",
       "      <td>2016-10-07 08:17:00.037000</td>\n",
       "      <td>Mensal</td>\n",
       "      <td>12970655</td>\n",
       "    </tr>\n",
       "    <tr>\n",
       "      <th>15</th>\n",
       "      <td>2016-11-07 07:15:08.387000</td>\n",
       "      <td>Mensal</td>\n",
       "      <td>12970655</td>\n",
       "    </tr>\n",
       "    <tr>\n",
       "      <th>16</th>\n",
       "      <td>2016-12-07 10:22:55.313000</td>\n",
       "      <td>Mensal</td>\n",
       "      <td>12970655</td>\n",
       "    </tr>\n",
       "    <tr>\n",
       "      <th>17</th>\n",
       "      <td>2017-01-07 07:33:30.163000</td>\n",
       "      <td>Mensal</td>\n",
       "      <td>12970655</td>\n",
       "    </tr>\n",
       "    <tr>\n",
       "      <th>18</th>\n",
       "      <td>2017-02-07 07:19:55.803000</td>\n",
       "      <td>Mensal</td>\n",
       "      <td>12970655</td>\n",
       "    </tr>\n",
       "    <tr>\n",
       "      <th>19</th>\n",
       "      <td>2017-03-07 08:21:06.727000</td>\n",
       "      <td>Mensal</td>\n",
       "      <td>12970655</td>\n",
       "    </tr>\n",
       "  </tbody>\n",
       "</table>\n",
       "</div>"
      ],
      "text/plain": [
       "                   PaymentDate PlanType  StudentId\n",
       "0   2017-05-26 22:25:03.000000    Anual   12970655\n",
       "1   2018-05-26 10:05:28.000000    Anual   12970655\n",
       "2   2016-07-21 19:57:57.717000   Mensal   12970655\n",
       "3   2016-08-21 08:47:42.947000   Mensal   12970655\n",
       "4   2016-09-21 08:54:06.270000   Mensal   12970655\n",
       "5   2016-10-21 07:15:22.177000   Mensal   12970655\n",
       "6   2016-11-21 07:32:08.743000   Mensal   12970655\n",
       "7   2016-12-21 10:09:27.583000   Mensal   12970655\n",
       "8   2017-01-21 07:36:03.020000   Mensal   12970655\n",
       "9   2017-02-21 08:16:47.740000   Mensal   12970655\n",
       "10  2016-06-07 19:40:05.420000   Mensal   12970655\n",
       "11  2016-07-07 09:05:27.750000   Mensal   12970655\n",
       "12  2016-08-07 08:51:26.017000   Mensal   12970655\n",
       "13  2016-09-07 08:52:57.213000   Mensal   12970655\n",
       "14  2016-10-07 08:17:00.037000   Mensal   12970655\n",
       "15  2016-11-07 07:15:08.387000   Mensal   12970655\n",
       "16  2016-12-07 10:22:55.313000   Mensal   12970655\n",
       "17  2017-01-07 07:33:30.163000   Mensal   12970655\n",
       "18  2017-02-07 07:19:55.803000   Mensal   12970655\n",
       "19  2017-03-07 08:21:06.727000   Mensal   12970655"
      ]
     },
     "execution_count": 19,
     "metadata": {},
     "output_type": "execute_result"
    }
   ],
   "source": [
    "df_premium_payments[df_premium_payments.StudentId == 12970655]"
   ]
  },
  {
   "cell_type": "markdown",
   "metadata": {},
   "source": [
    "Arrumando a base de pagantes para ter apenas um ID na base com a primeira data do pagamento"
   ]
  },
  {
   "cell_type": "code",
   "execution_count": 20,
   "metadata": {
    "collapsed": true
   },
   "outputs": [],
   "source": [
    "df_premium_payments_unique = (df_premium_payments.groupby('StudentId')\n",
    "                              .first().reset_index())"
   ]
  },
  {
   "cell_type": "code",
   "execution_count": 21,
   "metadata": {},
   "outputs": [
    {
     "name": "stdout",
     "output_type": "stream",
     "text": [
      "(1983, 3)\n"
     ]
    }
   ],
   "source": [
    "print(df_premium_payments_unique.shape)"
   ]
  },
  {
   "cell_type": "code",
   "execution_count": 22,
   "metadata": {},
   "outputs": [
    {
     "data": {
      "text/html": [
       "<div>\n",
       "<style>\n",
       "    .dataframe thead tr:only-child th {\n",
       "        text-align: right;\n",
       "    }\n",
       "\n",
       "    .dataframe thead th {\n",
       "        text-align: left;\n",
       "    }\n",
       "\n",
       "    .dataframe tbody tr th {\n",
       "        vertical-align: top;\n",
       "    }\n",
       "</style>\n",
       "<table border=\"1\" class=\"dataframe\">\n",
       "  <thead>\n",
       "    <tr style=\"text-align: right;\">\n",
       "      <th></th>\n",
       "      <th>StudentId</th>\n",
       "      <th>PaymentDate</th>\n",
       "      <th>PlanType</th>\n",
       "    </tr>\n",
       "  </thead>\n",
       "  <tbody>\n",
       "    <tr>\n",
       "      <th>0</th>\n",
       "      <td>43621</td>\n",
       "      <td>2018-03-05 19:43:13.000000</td>\n",
       "      <td>Mensal</td>\n",
       "    </tr>\n",
       "    <tr>\n",
       "      <th>1</th>\n",
       "      <td>51498</td>\n",
       "      <td>2017-03-11 12:08:03.170000</td>\n",
       "      <td>Mensal</td>\n",
       "    </tr>\n",
       "    <tr>\n",
       "      <th>2</th>\n",
       "      <td>105540</td>\n",
       "      <td>2018-04-26 22:35:36.000000</td>\n",
       "      <td>Anual</td>\n",
       "    </tr>\n",
       "    <tr>\n",
       "      <th>3</th>\n",
       "      <td>258634</td>\n",
       "      <td>2018-02-04 23:43:22.808863</td>\n",
       "      <td>Mensal</td>\n",
       "    </tr>\n",
       "    <tr>\n",
       "      <th>4</th>\n",
       "      <td>311572</td>\n",
       "      <td>2018-05-02 00:30:25.000000</td>\n",
       "      <td>Mensal</td>\n",
       "    </tr>\n",
       "  </tbody>\n",
       "</table>\n",
       "</div>"
      ],
      "text/plain": [
       "   StudentId                 PaymentDate PlanType\n",
       "0      43621  2018-03-05 19:43:13.000000   Mensal\n",
       "1      51498  2017-03-11 12:08:03.170000   Mensal\n",
       "2     105540  2018-04-26 22:35:36.000000    Anual\n",
       "3     258634  2018-02-04 23:43:22.808863   Mensal\n",
       "4     311572  2018-05-02 00:30:25.000000   Mensal"
      ]
     },
     "execution_count": 22,
     "metadata": {},
     "output_type": "execute_result"
    }
   ],
   "source": [
    "df_premium_payments_unique.head()"
   ]
  },
  {
   "cell_type": "code",
   "execution_count": 23,
   "metadata": {},
   "outputs": [
    {
     "data": {
      "text/html": [
       "<div>\n",
       "<style>\n",
       "    .dataframe thead tr:only-child th {\n",
       "        text-align: right;\n",
       "    }\n",
       "\n",
       "    .dataframe thead th {\n",
       "        text-align: left;\n",
       "    }\n",
       "\n",
       "    .dataframe tbody tr th {\n",
       "        vertical-align: top;\n",
       "    }\n",
       "</style>\n",
       "<table border=\"1\" class=\"dataframe\">\n",
       "  <thead>\n",
       "    <tr style=\"text-align: right;\">\n",
       "      <th></th>\n",
       "      <th>StudentId</th>\n",
       "      <th>PaymentDate</th>\n",
       "      <th>PlanType</th>\n",
       "    </tr>\n",
       "  </thead>\n",
       "  <tbody>\n",
       "    <tr>\n",
       "      <th>268</th>\n",
       "      <td>12970655</td>\n",
       "      <td>2017-05-26 22:25:03.000000</td>\n",
       "      <td>Anual</td>\n",
       "    </tr>\n",
       "  </tbody>\n",
       "</table>\n",
       "</div>"
      ],
      "text/plain": [
       "     StudentId                 PaymentDate PlanType\n",
       "268   12970655  2017-05-26 22:25:03.000000    Anual"
      ]
     },
     "execution_count": 23,
     "metadata": {},
     "output_type": "execute_result"
    }
   ],
   "source": [
    "df_premium_payments_unique[df_premium_payments_unique.StudentId == 12970655]"
   ]
  },
  {
   "cell_type": "code",
   "execution_count": 24,
   "metadata": {
    "collapsed": true
   },
   "outputs": [],
   "source": [
    "df_pagantes = pd.merge(df_students, df_premium_payments, how='outer',\n",
    "                       on='StudentId', indicator=True)"
   ]
  },
  {
   "cell_type": "code",
   "execution_count": 25,
   "metadata": {},
   "outputs": [
    {
     "data": {
      "text/html": [
       "<div>\n",
       "<style>\n",
       "    .dataframe thead tr:only-child th {\n",
       "        text-align: right;\n",
       "    }\n",
       "\n",
       "    .dataframe thead th {\n",
       "        text-align: left;\n",
       "    }\n",
       "\n",
       "    .dataframe tbody tr th {\n",
       "        vertical-align: top;\n",
       "    }\n",
       "</style>\n",
       "<table border=\"1\" class=\"dataframe\">\n",
       "  <thead>\n",
       "    <tr style=\"text-align: right;\">\n",
       "      <th></th>\n",
       "      <th>City</th>\n",
       "      <th>CourseName</th>\n",
       "      <th>StudentId</th>\n",
       "      <th>RegisteredDate</th>\n",
       "      <th>SignupSource</th>\n",
       "      <th>State</th>\n",
       "      <th>StudentClient</th>\n",
       "      <th>UniversityName</th>\n",
       "      <th>PaymentDate</th>\n",
       "      <th>PlanType</th>\n",
       "      <th>_merge</th>\n",
       "    </tr>\n",
       "  </thead>\n",
       "  <tbody>\n",
       "    <tr>\n",
       "      <th>0</th>\n",
       "      <td>NaN</td>\n",
       "      <td>Administração</td>\n",
       "      <td>12970655</td>\n",
       "      <td>2012-05-29 15:22:27.490000</td>\n",
       "      <td>Email</td>\n",
       "      <td>Rio de Janeiro</td>\n",
       "      <td>NaN</td>\n",
       "      <td>PUC-RIO</td>\n",
       "      <td>2017-05-26 22:25:03.000000</td>\n",
       "      <td>Anual</td>\n",
       "      <td>both</td>\n",
       "    </tr>\n",
       "    <tr>\n",
       "      <th>1</th>\n",
       "      <td>NaN</td>\n",
       "      <td>Administração</td>\n",
       "      <td>12970655</td>\n",
       "      <td>2012-05-29 15:22:27.490000</td>\n",
       "      <td>Email</td>\n",
       "      <td>Rio de Janeiro</td>\n",
       "      <td>NaN</td>\n",
       "      <td>PUC-RIO</td>\n",
       "      <td>2018-05-26 10:05:28.000000</td>\n",
       "      <td>Anual</td>\n",
       "      <td>both</td>\n",
       "    </tr>\n",
       "    <tr>\n",
       "      <th>2</th>\n",
       "      <td>NaN</td>\n",
       "      <td>Administração</td>\n",
       "      <td>12970655</td>\n",
       "      <td>2012-05-29 15:22:27.490000</td>\n",
       "      <td>Email</td>\n",
       "      <td>Rio de Janeiro</td>\n",
       "      <td>NaN</td>\n",
       "      <td>PUC-RIO</td>\n",
       "      <td>2016-07-21 19:57:57.717000</td>\n",
       "      <td>Mensal</td>\n",
       "      <td>both</td>\n",
       "    </tr>\n",
       "    <tr>\n",
       "      <th>3</th>\n",
       "      <td>NaN</td>\n",
       "      <td>Administração</td>\n",
       "      <td>12970655</td>\n",
       "      <td>2012-05-29 15:22:27.490000</td>\n",
       "      <td>Email</td>\n",
       "      <td>Rio de Janeiro</td>\n",
       "      <td>NaN</td>\n",
       "      <td>PUC-RIO</td>\n",
       "      <td>2016-08-21 08:47:42.947000</td>\n",
       "      <td>Mensal</td>\n",
       "      <td>both</td>\n",
       "    </tr>\n",
       "    <tr>\n",
       "      <th>4</th>\n",
       "      <td>NaN</td>\n",
       "      <td>Administração</td>\n",
       "      <td>12970655</td>\n",
       "      <td>2012-05-29 15:22:27.490000</td>\n",
       "      <td>Email</td>\n",
       "      <td>Rio de Janeiro</td>\n",
       "      <td>NaN</td>\n",
       "      <td>PUC-RIO</td>\n",
       "      <td>2016-09-21 08:54:06.270000</td>\n",
       "      <td>Mensal</td>\n",
       "      <td>both</td>\n",
       "    </tr>\n",
       "    <tr>\n",
       "      <th>5</th>\n",
       "      <td>NaN</td>\n",
       "      <td>Administração</td>\n",
       "      <td>12970655</td>\n",
       "      <td>2012-05-29 15:22:27.490000</td>\n",
       "      <td>Email</td>\n",
       "      <td>Rio de Janeiro</td>\n",
       "      <td>NaN</td>\n",
       "      <td>PUC-RIO</td>\n",
       "      <td>2016-10-21 07:15:22.177000</td>\n",
       "      <td>Mensal</td>\n",
       "      <td>both</td>\n",
       "    </tr>\n",
       "    <tr>\n",
       "      <th>6</th>\n",
       "      <td>NaN</td>\n",
       "      <td>Administração</td>\n",
       "      <td>12970655</td>\n",
       "      <td>2012-05-29 15:22:27.490000</td>\n",
       "      <td>Email</td>\n",
       "      <td>Rio de Janeiro</td>\n",
       "      <td>NaN</td>\n",
       "      <td>PUC-RIO</td>\n",
       "      <td>2016-11-21 07:32:08.743000</td>\n",
       "      <td>Mensal</td>\n",
       "      <td>both</td>\n",
       "    </tr>\n",
       "    <tr>\n",
       "      <th>7</th>\n",
       "      <td>NaN</td>\n",
       "      <td>Administração</td>\n",
       "      <td>12970655</td>\n",
       "      <td>2012-05-29 15:22:27.490000</td>\n",
       "      <td>Email</td>\n",
       "      <td>Rio de Janeiro</td>\n",
       "      <td>NaN</td>\n",
       "      <td>PUC-RIO</td>\n",
       "      <td>2016-12-21 10:09:27.583000</td>\n",
       "      <td>Mensal</td>\n",
       "      <td>both</td>\n",
       "    </tr>\n",
       "    <tr>\n",
       "      <th>8</th>\n",
       "      <td>NaN</td>\n",
       "      <td>Administração</td>\n",
       "      <td>12970655</td>\n",
       "      <td>2012-05-29 15:22:27.490000</td>\n",
       "      <td>Email</td>\n",
       "      <td>Rio de Janeiro</td>\n",
       "      <td>NaN</td>\n",
       "      <td>PUC-RIO</td>\n",
       "      <td>2017-01-21 07:36:03.020000</td>\n",
       "      <td>Mensal</td>\n",
       "      <td>both</td>\n",
       "    </tr>\n",
       "    <tr>\n",
       "      <th>9</th>\n",
       "      <td>NaN</td>\n",
       "      <td>Administração</td>\n",
       "      <td>12970655</td>\n",
       "      <td>2012-05-29 15:22:27.490000</td>\n",
       "      <td>Email</td>\n",
       "      <td>Rio de Janeiro</td>\n",
       "      <td>NaN</td>\n",
       "      <td>PUC-RIO</td>\n",
       "      <td>2017-02-21 08:16:47.740000</td>\n",
       "      <td>Mensal</td>\n",
       "      <td>both</td>\n",
       "    </tr>\n",
       "    <tr>\n",
       "      <th>10</th>\n",
       "      <td>NaN</td>\n",
       "      <td>Administração</td>\n",
       "      <td>12970655</td>\n",
       "      <td>2012-05-29 15:22:27.490000</td>\n",
       "      <td>Email</td>\n",
       "      <td>Rio de Janeiro</td>\n",
       "      <td>NaN</td>\n",
       "      <td>PUC-RIO</td>\n",
       "      <td>2016-06-07 19:40:05.420000</td>\n",
       "      <td>Mensal</td>\n",
       "      <td>both</td>\n",
       "    </tr>\n",
       "    <tr>\n",
       "      <th>11</th>\n",
       "      <td>NaN</td>\n",
       "      <td>Administração</td>\n",
       "      <td>12970655</td>\n",
       "      <td>2012-05-29 15:22:27.490000</td>\n",
       "      <td>Email</td>\n",
       "      <td>Rio de Janeiro</td>\n",
       "      <td>NaN</td>\n",
       "      <td>PUC-RIO</td>\n",
       "      <td>2016-07-07 09:05:27.750000</td>\n",
       "      <td>Mensal</td>\n",
       "      <td>both</td>\n",
       "    </tr>\n",
       "    <tr>\n",
       "      <th>12</th>\n",
       "      <td>NaN</td>\n",
       "      <td>Administração</td>\n",
       "      <td>12970655</td>\n",
       "      <td>2012-05-29 15:22:27.490000</td>\n",
       "      <td>Email</td>\n",
       "      <td>Rio de Janeiro</td>\n",
       "      <td>NaN</td>\n",
       "      <td>PUC-RIO</td>\n",
       "      <td>2016-08-07 08:51:26.017000</td>\n",
       "      <td>Mensal</td>\n",
       "      <td>both</td>\n",
       "    </tr>\n",
       "    <tr>\n",
       "      <th>13</th>\n",
       "      <td>NaN</td>\n",
       "      <td>Administração</td>\n",
       "      <td>12970655</td>\n",
       "      <td>2012-05-29 15:22:27.490000</td>\n",
       "      <td>Email</td>\n",
       "      <td>Rio de Janeiro</td>\n",
       "      <td>NaN</td>\n",
       "      <td>PUC-RIO</td>\n",
       "      <td>2016-09-07 08:52:57.213000</td>\n",
       "      <td>Mensal</td>\n",
       "      <td>both</td>\n",
       "    </tr>\n",
       "    <tr>\n",
       "      <th>14</th>\n",
       "      <td>NaN</td>\n",
       "      <td>Administração</td>\n",
       "      <td>12970655</td>\n",
       "      <td>2012-05-29 15:22:27.490000</td>\n",
       "      <td>Email</td>\n",
       "      <td>Rio de Janeiro</td>\n",
       "      <td>NaN</td>\n",
       "      <td>PUC-RIO</td>\n",
       "      <td>2016-10-07 08:17:00.037000</td>\n",
       "      <td>Mensal</td>\n",
       "      <td>both</td>\n",
       "    </tr>\n",
       "  </tbody>\n",
       "</table>\n",
       "</div>"
      ],
      "text/plain": [
       "   City     CourseName  StudentId              RegisteredDate SignupSource  \\\n",
       "0   NaN  Administração   12970655  2012-05-29 15:22:27.490000        Email   \n",
       "1   NaN  Administração   12970655  2012-05-29 15:22:27.490000        Email   \n",
       "2   NaN  Administração   12970655  2012-05-29 15:22:27.490000        Email   \n",
       "3   NaN  Administração   12970655  2012-05-29 15:22:27.490000        Email   \n",
       "4   NaN  Administração   12970655  2012-05-29 15:22:27.490000        Email   \n",
       "5   NaN  Administração   12970655  2012-05-29 15:22:27.490000        Email   \n",
       "6   NaN  Administração   12970655  2012-05-29 15:22:27.490000        Email   \n",
       "7   NaN  Administração   12970655  2012-05-29 15:22:27.490000        Email   \n",
       "8   NaN  Administração   12970655  2012-05-29 15:22:27.490000        Email   \n",
       "9   NaN  Administração   12970655  2012-05-29 15:22:27.490000        Email   \n",
       "10  NaN  Administração   12970655  2012-05-29 15:22:27.490000        Email   \n",
       "11  NaN  Administração   12970655  2012-05-29 15:22:27.490000        Email   \n",
       "12  NaN  Administração   12970655  2012-05-29 15:22:27.490000        Email   \n",
       "13  NaN  Administração   12970655  2012-05-29 15:22:27.490000        Email   \n",
       "14  NaN  Administração   12970655  2012-05-29 15:22:27.490000        Email   \n",
       "\n",
       "             State StudentClient UniversityName                 PaymentDate  \\\n",
       "0   Rio de Janeiro           NaN        PUC-RIO  2017-05-26 22:25:03.000000   \n",
       "1   Rio de Janeiro           NaN        PUC-RIO  2018-05-26 10:05:28.000000   \n",
       "2   Rio de Janeiro           NaN        PUC-RIO  2016-07-21 19:57:57.717000   \n",
       "3   Rio de Janeiro           NaN        PUC-RIO  2016-08-21 08:47:42.947000   \n",
       "4   Rio de Janeiro           NaN        PUC-RIO  2016-09-21 08:54:06.270000   \n",
       "5   Rio de Janeiro           NaN        PUC-RIO  2016-10-21 07:15:22.177000   \n",
       "6   Rio de Janeiro           NaN        PUC-RIO  2016-11-21 07:32:08.743000   \n",
       "7   Rio de Janeiro           NaN        PUC-RIO  2016-12-21 10:09:27.583000   \n",
       "8   Rio de Janeiro           NaN        PUC-RIO  2017-01-21 07:36:03.020000   \n",
       "9   Rio de Janeiro           NaN        PUC-RIO  2017-02-21 08:16:47.740000   \n",
       "10  Rio de Janeiro           NaN        PUC-RIO  2016-06-07 19:40:05.420000   \n",
       "11  Rio de Janeiro           NaN        PUC-RIO  2016-07-07 09:05:27.750000   \n",
       "12  Rio de Janeiro           NaN        PUC-RIO  2016-08-07 08:51:26.017000   \n",
       "13  Rio de Janeiro           NaN        PUC-RIO  2016-09-07 08:52:57.213000   \n",
       "14  Rio de Janeiro           NaN        PUC-RIO  2016-10-07 08:17:00.037000   \n",
       "\n",
       "   PlanType _merge  \n",
       "0     Anual   both  \n",
       "1     Anual   both  \n",
       "2    Mensal   both  \n",
       "3    Mensal   both  \n",
       "4    Mensal   both  \n",
       "5    Mensal   both  \n",
       "6    Mensal   both  \n",
       "7    Mensal   both  \n",
       "8    Mensal   both  \n",
       "9    Mensal   both  \n",
       "10   Mensal   both  \n",
       "11   Mensal   both  \n",
       "12   Mensal   both  \n",
       "13   Mensal   both  \n",
       "14   Mensal   both  "
      ]
     },
     "execution_count": 25,
     "metadata": {},
     "output_type": "execute_result"
    }
   ],
   "source": [
    "df_pagantes.head(15)"
   ]
  },
  {
   "cell_type": "code",
   "execution_count": 26,
   "metadata": {},
   "outputs": [
    {
     "data": {
      "text/plain": [
       "left_only     58017\n",
       "both           7276\n",
       "right_only        0\n",
       "Name: _merge, dtype: int64"
      ]
     },
     "execution_count": 26,
     "metadata": {},
     "output_type": "execute_result"
    }
   ],
   "source": [
    "df_pagantes['_merge'].value_counts()"
   ]
  },
  {
   "cell_type": "code",
   "execution_count": 27,
   "metadata": {
    "collapsed": true
   },
   "outputs": [],
   "source": [
    "df_pagantes.rename(columns={'_merge':'Pagantes'}, inplace=True)"
   ]
  },
  {
   "cell_type": "code",
   "execution_count": 28,
   "metadata": {
    "collapsed": true
   },
   "outputs": [],
   "source": [
    "df_pagantes['Pagantes'].replace('left_only', np.nan, inplace=True)\n"
   ]
  },
  {
   "cell_type": "code",
   "execution_count": 29,
   "metadata": {
    "collapsed": true
   },
   "outputs": [],
   "source": [
    "df_pagantes['Pagantes'].replace('both', 1, inplace=True)"
   ]
  },
  {
   "cell_type": "code",
   "execution_count": 30,
   "metadata": {},
   "outputs": [
    {
     "name": "stdout",
     "output_type": "stream",
     "text": [
      "<class 'pandas.core.frame.DataFrame'>\n",
      "Int64Index: 65293 entries, 0 to 65292\n",
      "Data columns (total 11 columns):\n",
      "City              22114 non-null object\n",
      "CourseName        65293 non-null object\n",
      "StudentId         65293 non-null int64\n",
      "RegisteredDate    65293 non-null object\n",
      "SignupSource      65293 non-null object\n",
      "State             27968 non-null object\n",
      "StudentClient     55633 non-null object\n",
      "UniversityName    65293 non-null object\n",
      "PaymentDate       7276 non-null object\n",
      "PlanType          7276 non-null object\n",
      "Pagantes          7276 non-null float64\n",
      "dtypes: float64(1), int64(1), object(9)\n",
      "memory usage: 6.0+ MB\n"
     ]
    }
   ],
   "source": [
    "df_pagantes.info()"
   ]
  },
  {
   "cell_type": "code",
   "execution_count": 31,
   "metadata": {},
   "outputs": [
    {
     "data": {
      "text/plain": [
       "60000"
      ]
     },
     "execution_count": 31,
     "metadata": {},
     "output_type": "execute_result"
    }
   ],
   "source": [
    "# quantos ids unicos?\n",
    "len(df_pagantes['StudentId'].drop_duplicates().dropna())"
   ]
  },
  {
   "cell_type": "code",
   "execution_count": 32,
   "metadata": {},
   "outputs": [
    {
     "data": {
      "text/plain": [
       "Pagantes\n",
       "1.0    7276\n",
       "Name: StudentId, dtype: int64"
      ]
     },
     "execution_count": 32,
     "metadata": {},
     "output_type": "execute_result"
    }
   ],
   "source": [
    "df_pagantes.groupby(['Pagantes'])['StudentId'].count()"
   ]
  },
  {
   "cell_type": "code",
   "execution_count": 33,
   "metadata": {},
   "outputs": [
    {
     "name": "stdout",
     "output_type": "stream",
     "text": [
      "768\n"
     ]
    },
    {
     "data": {
      "text/html": [
       "<div>\n",
       "<style>\n",
       "    .dataframe thead tr:only-child th {\n",
       "        text-align: right;\n",
       "    }\n",
       "\n",
       "    .dataframe thead th {\n",
       "        text-align: left;\n",
       "    }\n",
       "\n",
       "    .dataframe tbody tr th {\n",
       "        vertical-align: top;\n",
       "    }\n",
       "</style>\n",
       "<table border=\"1\" class=\"dataframe\">\n",
       "  <thead>\n",
       "    <tr style=\"text-align: right;\">\n",
       "      <th></th>\n",
       "      <th>CancellationDate</th>\n",
       "      <th>StudentId</th>\n",
       "    </tr>\n",
       "  </thead>\n",
       "  <tbody>\n",
       "    <tr>\n",
       "      <th>0</th>\n",
       "      <td>2016-05-05 19:08:31.937000</td>\n",
       "      <td>34129668</td>\n",
       "    </tr>\n",
       "    <tr>\n",
       "      <th>1</th>\n",
       "      <td>2016-05-05 22:48:20.830000</td>\n",
       "      <td>34129668</td>\n",
       "    </tr>\n",
       "    <tr>\n",
       "      <th>2</th>\n",
       "      <td>2016-05-20 22:37:21.117000</td>\n",
       "      <td>82394932</td>\n",
       "    </tr>\n",
       "    <tr>\n",
       "      <th>3</th>\n",
       "      <td>2016-05-31 13:44:55.307000</td>\n",
       "      <td>82942835</td>\n",
       "    </tr>\n",
       "    <tr>\n",
       "      <th>4</th>\n",
       "      <td>2016-06-01 14:22:19.467000</td>\n",
       "      <td>85382416</td>\n",
       "    </tr>\n",
       "  </tbody>\n",
       "</table>\n",
       "</div>"
      ],
      "text/plain": [
       "             CancellationDate  StudentId\n",
       "0  2016-05-05 19:08:31.937000   34129668\n",
       "1  2016-05-05 22:48:20.830000   34129668\n",
       "2  2016-05-20 22:37:21.117000   82394932\n",
       "3  2016-05-31 13:44:55.307000   82942835\n",
       "4  2016-06-01 14:22:19.467000   85382416"
      ]
     },
     "execution_count": 33,
     "metadata": {},
     "output_type": "execute_result"
    }
   ],
   "source": [
    "print(len(df_premium_cancellations['StudentId'].drop_duplicates().dropna()))\n",
    "df_premium_cancellations.head()"
   ]
  },
  {
   "cell_type": "code",
   "execution_count": null,
   "metadata": {
    "collapsed": true
   },
   "outputs": [],
   "source": []
  }
 ],
 "metadata": {
  "kernelspec": {
   "display_name": "Python 2",
   "language": "python",
   "name": "python2"
  },
  "language_info": {
   "codemirror_mode": {
    "name": "ipython",
    "version": 2
   },
   "file_extension": ".py",
   "mimetype": "text/x-python",
   "name": "python",
   "nbconvert_exporter": "python",
   "pygments_lexer": "ipython2",
   "version": "2.7.13"
  }
 },
 "nbformat": 4,
 "nbformat_minor": 2
}
